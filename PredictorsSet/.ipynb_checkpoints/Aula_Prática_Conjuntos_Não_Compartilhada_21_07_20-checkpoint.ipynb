{
 "cells": [
  {
   "cell_type": "markdown",
   "metadata": {
    "colab_type": "text",
    "id": "5Q936NDXKXYD"
   },
   "source": [
    "## <h3 align=\"center\"> **Atividade Prática**</h3> \n",
    "\n",
    "\n",
    "\n",
    "\n",
    "<h3 align=\"center\"> Data: 21-07-2020 </h3> "
   ]
  },
  {
   "cell_type": "markdown",
   "metadata": {
    "colab_type": "text",
    "id": "5XBdCvyUTLmg"
   },
   "source": [
    "# Vamos iniciar trabalhando com os diferentes métodos de geração de conjuntos de classificadores. \n"
   ]
  },
  {
   "cell_type": "code",
   "execution_count": 1,
   "metadata": {
    "colab": {},
    "colab_type": "code",
    "executionInfo": {
     "elapsed": 2546,
     "status": "ok",
     "timestamp": 1595970345203,
     "user": {
      "displayName": "Eulanda Santos",
      "photoUrl": "https://lh3.googleusercontent.com/a-/AOh14Gh8H-b4B8IyNqw1iauF5gaY7Szue6PqX1tR9IZh4ijHL0Woth6Ix3YhETIZ8yfmtCVPj14m1WTuRHWoijS34sAymuG44GLec4XLgowikLlTVZnIKpgenatXE4W7_tATc4To6Uj0lLj7oOhOi9Sd5IeQZ7f84cNbfio3QxtxBUqZ3_n1k8XnfKUaXh7fBau7eL612K07b7TAXWI_AiGq9kHBPy2M21mqhNK6UF4mx9Cp3snwtxmRr0bshvuMojukVO757tXtbP_a8Zzoh-WGvk7MpbZLF8AAIf0Mc4iRzuKKqTl5CkERte0r3Y4aif1nMUA49xaIaPOBtnx0G0grg5McHWepadRaCWkzx3Q2w8KqIDPim4iTjWRfi4zuqt12fBG76YxkCBI5BP4MlCI6EbKMiPpG2zQXhXr2fAHKS8PQjWDQXea6XtdjNCJhlIEvBqzySr5EfwOy7hbcX_JOPkuTYNBbHuxK7KhHdmqlWdwDjfvM7DRb47Rf8S9NbcyMES6_zi3lM4Yb_1b0b8QWFmbOhnxJQ0pFwGKM0yorDcNaV2V1Lz_cGpKfTcDaiSvTkbLgOXuJWoshc0QUsJcoD2Bx92Z8WyX2CoJMQ_izvbbSWLChFV12FedNpnj192JimT58aas4HhKHTI4fXwFS76sS1mrsxGi8syA8exuAIB6ZuF2rSm97RRQoaXxSOoTw7ydoVkegHRYq9YLr7BgokdXPwBLJoEXb5KI9vE__fghM5E7eJbJgr32moUV14Nxb4dr5Ug=s64",
      "userId": "04288734832196105327"
     },
     "user_tz": 240
    },
    "id": "B_pypY8nZ2v3"
   },
   "outputs": [],
   "source": [
    "# Importando bibliotecas necessárias\n",
    "import matplotlib\n",
    "import matplotlib.pyplot as plt\n",
    "import numpy as np\n",
    "import sklearn"
   ]
  },
  {
   "cell_type": "markdown",
   "metadata": {
    "colab_type": "text",
    "id": "aiVGWEYQA_QZ"
   },
   "source": [
    "Vamos utilizar a base **Iris**"
   ]
  },
  {
   "cell_type": "code",
   "execution_count": 2,
   "metadata": {
    "colab": {},
    "colab_type": "code",
    "executionInfo": {
     "elapsed": 2637,
     "status": "ok",
     "timestamp": 1595970351006,
     "user": {
      "displayName": "Eulanda Santos",
      "photoUrl": "https://lh3.googleusercontent.com/a-/AOh14Gh8H-b4B8IyNqw1iauF5gaY7Szue6PqX1tR9IZh4ijHL0Woth6Ix3YhETIZ8yfmtCVPj14m1WTuRHWoijS34sAymuG44GLec4XLgowikLlTVZnIKpgenatXE4W7_tATc4To6Uj0lLj7oOhOi9Sd5IeQZ7f84cNbfio3QxtxBUqZ3_n1k8XnfKUaXh7fBau7eL612K07b7TAXWI_AiGq9kHBPy2M21mqhNK6UF4mx9Cp3snwtxmRr0bshvuMojukVO757tXtbP_a8Zzoh-WGvk7MpbZLF8AAIf0Mc4iRzuKKqTl5CkERte0r3Y4aif1nMUA49xaIaPOBtnx0G0grg5McHWepadRaCWkzx3Q2w8KqIDPim4iTjWRfi4zuqt12fBG76YxkCBI5BP4MlCI6EbKMiPpG2zQXhXr2fAHKS8PQjWDQXea6XtdjNCJhlIEvBqzySr5EfwOy7hbcX_JOPkuTYNBbHuxK7KhHdmqlWdwDjfvM7DRb47Rf8S9NbcyMES6_zi3lM4Yb_1b0b8QWFmbOhnxJQ0pFwGKM0yorDcNaV2V1Lz_cGpKfTcDaiSvTkbLgOXuJWoshc0QUsJcoD2Bx92Z8WyX2CoJMQ_izvbbSWLChFV12FedNpnj192JimT58aas4HhKHTI4fXwFS76sS1mrsxGi8syA8exuAIB6ZuF2rSm97RRQoaXxSOoTw7ydoVkegHRYq9YLr7BgokdXPwBLJoEXb5KI9vE__fghM5E7eJbJgr32moUV14Nxb4dr5Ug=s64",
      "userId": "04288734832196105327"
     },
     "user_tz": 240
    },
    "id": "mw58wRPx5D7V"
   },
   "outputs": [],
   "source": [
    "from sklearn.datasets import load_iris\n",
    "iris_dataset = load_iris()"
   ]
  },
  {
   "cell_type": "markdown",
   "metadata": {
    "colab_type": "text",
    "id": "mMNTVd9q5Cxj"
   },
   "source": [
    "Relembrando a base Iris\n",
    "\n",
    "\n",
    "---\n",
    "\n",
    "\n",
    "![texto alternativo](https://drive.google.com/uc?export=view&id=1y60Qw8n06cfSgDXL_sqHFaTYQl-tTpmE) "
   ]
  },
  {
   "cell_type": "code",
   "execution_count": 3,
   "metadata": {
    "colab": {},
    "colab_type": "code",
    "id": "MkHEgR0f5gwR"
   },
   "outputs": [
    {
     "name": "stdout",
     "output_type": "stream",
     "text": [
      ".. _iris_dataset:\n",
      "\n",
      "Iris plants dataset\n",
      "--------------------\n",
      "\n",
      "**Data Set Characteristics:**\n",
      "\n",
      "    :Number of Instances: 150 (50 in each of three classes)\n",
      "    :Number of Attributes: 4 numeric, pre\n",
      "...\n"
     ]
    }
   ],
   "source": [
    "print(iris_dataset['DESCR'][:193] + \"\\n...\")"
   ]
  },
  {
   "cell_type": "code",
   "execution_count": null,
   "metadata": {
    "colab": {},
    "colab_type": "code",
    "id": "hdDKxV51mTEZ"
   },
   "outputs": [],
   "source": [
    "iris_dataset"
   ]
  },
  {
   "cell_type": "code",
   "execution_count": 3,
   "metadata": {
    "colab": {},
    "colab_type": "code",
    "executionInfo": {
     "elapsed": 1314,
     "status": "ok",
     "timestamp": 1595970356663,
     "user": {
      "displayName": "Eulanda Santos",
      "photoUrl": "https://lh3.googleusercontent.com/a-/AOh14Gh8H-b4B8IyNqw1iauF5gaY7Szue6PqX1tR9IZh4ijHL0Woth6Ix3YhETIZ8yfmtCVPj14m1WTuRHWoijS34sAymuG44GLec4XLgowikLlTVZnIKpgenatXE4W7_tATc4To6Uj0lLj7oOhOi9Sd5IeQZ7f84cNbfio3QxtxBUqZ3_n1k8XnfKUaXh7fBau7eL612K07b7TAXWI_AiGq9kHBPy2M21mqhNK6UF4mx9Cp3snwtxmRr0bshvuMojukVO757tXtbP_a8Zzoh-WGvk7MpbZLF8AAIf0Mc4iRzuKKqTl5CkERte0r3Y4aif1nMUA49xaIaPOBtnx0G0grg5McHWepadRaCWkzx3Q2w8KqIDPim4iTjWRfi4zuqt12fBG76YxkCBI5BP4MlCI6EbKMiPpG2zQXhXr2fAHKS8PQjWDQXea6XtdjNCJhlIEvBqzySr5EfwOy7hbcX_JOPkuTYNBbHuxK7KhHdmqlWdwDjfvM7DRb47Rf8S9NbcyMES6_zi3lM4Yb_1b0b8QWFmbOhnxJQ0pFwGKM0yorDcNaV2V1Lz_cGpKfTcDaiSvTkbLgOXuJWoshc0QUsJcoD2Bx92Z8WyX2CoJMQ_izvbbSWLChFV12FedNpnj192JimT58aas4HhKHTI4fXwFS76sS1mrsxGi8syA8exuAIB6ZuF2rSm97RRQoaXxSOoTw7ydoVkegHRYq9YLr7BgokdXPwBLJoEXb5KI9vE__fghM5E7eJbJgr32moUV14Nxb4dr5Ug=s64",
      "userId": "04288734832196105327"
     },
     "user_tz": 240
    },
    "id": "BsHbaPDa4uvC"
   },
   "outputs": [],
   "source": [
    "# Particionando a base em treino e teste\n",
    "from sklearn.model_selection import train_test_split\n",
    "X_train, X_test, y_train, y_test = train_test_split(\n",
    "    iris_dataset['data'], iris_dataset['target'], random_state=0)"
   ]
  },
  {
   "cell_type": "code",
   "execution_count": null,
   "metadata": {
    "colab": {},
    "colab_type": "code",
    "id": "xbwTfC0h-zVB"
   },
   "outputs": [],
   "source": [
    "#Como as estão distribuídas entre as partições\n",
    "print(\"Particao de Treino\", X_train.shape)\n",
    "print(\"Particao de Teste\", X_test.shape)"
   ]
  },
  {
   "cell_type": "markdown",
   "metadata": {
    "colab_type": "text",
    "id": "gLO79FJLaw5j"
   },
   "source": [
    "## **Será que um comitê é sempre melhor do que um preditor individual?**\n",
    " Aqui, nós vamos comparar Bagging, Boosting e Random Forest, todos utilizados com o Árvore de Decisão como algoritmo de base. \n",
    " Nós vamos comparar o resultado obtido por cada método de geração de conjunto com o resultado de uma árvore de decisão."
   ]
  },
  {
   "cell_type": "code",
   "execution_count": 4,
   "metadata": {
    "colab": {},
    "colab_type": "code",
    "executionInfo": {
     "elapsed": 1643,
     "status": "ok",
     "timestamp": 1595970362578,
     "user": {
      "displayName": "Eulanda Santos",
      "photoUrl": "https://lh3.googleusercontent.com/a-/AOh14Gh8H-b4B8IyNqw1iauF5gaY7Szue6PqX1tR9IZh4ijHL0Woth6Ix3YhETIZ8yfmtCVPj14m1WTuRHWoijS34sAymuG44GLec4XLgowikLlTVZnIKpgenatXE4W7_tATc4To6Uj0lLj7oOhOi9Sd5IeQZ7f84cNbfio3QxtxBUqZ3_n1k8XnfKUaXh7fBau7eL612K07b7TAXWI_AiGq9kHBPy2M21mqhNK6UF4mx9Cp3snwtxmRr0bshvuMojukVO757tXtbP_a8Zzoh-WGvk7MpbZLF8AAIf0Mc4iRzuKKqTl5CkERte0r3Y4aif1nMUA49xaIaPOBtnx0G0grg5McHWepadRaCWkzx3Q2w8KqIDPim4iTjWRfi4zuqt12fBG76YxkCBI5BP4MlCI6EbKMiPpG2zQXhXr2fAHKS8PQjWDQXea6XtdjNCJhlIEvBqzySr5EfwOy7hbcX_JOPkuTYNBbHuxK7KhHdmqlWdwDjfvM7DRb47Rf8S9NbcyMES6_zi3lM4Yb_1b0b8QWFmbOhnxJQ0pFwGKM0yorDcNaV2V1Lz_cGpKfTcDaiSvTkbLgOXuJWoshc0QUsJcoD2Bx92Z8WyX2CoJMQ_izvbbSWLChFV12FedNpnj192JimT58aas4HhKHTI4fXwFS76sS1mrsxGi8syA8exuAIB6ZuF2rSm97RRQoaXxSOoTw7ydoVkegHRYq9YLr7BgokdXPwBLJoEXb5KI9vE__fghM5E7eJbJgr32moUV14Nxb4dr5Ug=s64",
      "userId": "04288734832196105327"
     },
     "user_tz": 240
    },
    "id": "xbXLa_eU_E0S"
   },
   "outputs": [],
   "source": [
    "# Chamando os métodos que serão utilizados\n",
    "from sklearn.tree import DecisionTreeClassifier\n",
    "from sklearn.ensemble import BaggingClassifier\n",
    "from sklearn.ensemble import RandomForestClassifier\n",
    "from sklearn.ensemble import AdaBoostClassifier\n",
    "from sklearn.ensemble import GradientBoostingClassifier\n",
    "\n",
    "# Para avaliação\n",
    "from sklearn.metrics import accuracy_score\n"
   ]
  },
  {
   "cell_type": "markdown",
   "metadata": {
    "colab_type": "text",
    "id": "A-YZPlBRvkxC"
   },
   "source": [
    "Agora,vamos testar os métodos de geração de conjuntos básicos todos utilizando Árvores de Decisão como Classificadores de base"
   ]
  },
  {
   "cell_type": "code",
   "execution_count": null,
   "metadata": {
    "colab": {},
    "colab_type": "code",
    "id": "8qxgOYvPc9T7"
   },
   "outputs": [],
   "source": [
    "#Bagging : gerando o modelo\n",
    "\n",
    "bag_clf = BaggingClassifier(DecisionTreeClassifier(), n_estimators=15, random_state=0)\n",
    "\n",
    "# Treinando, testando e avaliando\n",
    "bag_clf.fit(X_train, y_train)\n",
    "y_pred_bag = bag_clf.predict(X_test)\n",
    "print(accuracy_score(y_test, y_pred_bag))"
   ]
  },
  {
   "cell_type": "code",
   "execution_count": null,
   "metadata": {
    "colab": {},
    "colab_type": "code",
    "id": "nTl6-Ui5iMNL"
   },
   "outputs": [],
   "source": [
    "#Random Forest"
   ]
  },
  {
   "cell_type": "code",
   "execution_count": null,
   "metadata": {
    "colab": {},
    "colab_type": "code",
    "id": "YxTKnvVPiPiQ"
   },
   "outputs": [],
   "source": [
    "#AdaBoost"
   ]
  },
  {
   "cell_type": "code",
   "execution_count": null,
   "metadata": {
    "colab": {},
    "colab_type": "code",
    "id": "tKA_E30DiSkb"
   },
   "outputs": [],
   "source": [
    "#GradientBoost"
   ]
  },
  {
   "cell_type": "markdown",
   "metadata": {
    "colab_type": "text",
    "id": "pvERSh51iYu6"
   },
   "source": [
    "E somente uma árvore de decisão? Qual será o resultado?"
   ]
  },
  {
   "cell_type": "code",
   "execution_count": null,
   "metadata": {
    "colab": {},
    "colab_type": "code",
    "id": "xlZQIBTTFZJN"
   },
   "outputs": [],
   "source": [
    "# Árvore de Decisão\n",
    "DT_clf = DecisionTreeClassifier()\n",
    "DT_clf.fit(X_train, y_train)\n",
    "y_pred_DT = DT_clf.predict(X_test)\n",
    "\n",
    "# Avaliação\n",
    "print(accuracy_score(y_test, y_pred_DT))"
   ]
  },
  {
   "cell_type": "markdown",
   "metadata": {
    "colab_type": "text",
    "id": "1HJsXasHI0ip"
   },
   "source": [
    "**Modificando a base de Dados**\n",
    "\n",
    "Nós vamos fazer o mesmo teste, só que utilizando a base de dados Brest Cancer."
   ]
  },
  {
   "cell_type": "markdown",
   "metadata": {
    "colab_type": "text",
    "id": "neX2378I_3H5"
   },
   "source": [
    "**Relembrando a base Brest Cancer**\n",
    "\n",
    "Neste exemplo, nós utilizaremos a base **Breast Cancer** disponível no sklearn, mas originário do repositório da UCI (https://archive.ics.uci.edu/ml/datasets/breast+cancer). Trata-se de uma base de dados que foi obtida a partir de imagens digitalizadas de massas mamárias e que descrevem **dois** tipos de classe: maligno (harmful) e benigno (not harmful). Os atributos descrevem características dos núcleos celulares presentes nas imagens.\n",
    "\n",
    "No total, são **30 atributos** ordenados: raio médio, textura média, perímetro médio, área média, suavidade média, compacidade média, concavidade média, pontos côncavos médios, simetria média, dimensão fractal média, erro de raio, erro de textura, erro de perímetro, erro de área, erro de suavidade, erro de compactação, erro de concavidade, erro de pontos côncavos, erro de simetria, erro de dimensão fractal, pior raio, pior textura, pior perímetro, pior área, pior suavidade, pior compacidade, pior concavidade, piores pontos côncavos, pior simetria e pior dimensão fractal) e um alvo (tipo de câncer).\n",
    "\n"
   ]
  },
  {
   "cell_type": "code",
   "execution_count": 13,
   "metadata": {
    "colab": {},
    "colab_type": "code",
    "executionInfo": {
     "elapsed": 1218,
     "status": "ok",
     "timestamp": 1595970659274,
     "user": {
      "displayName": "Eulanda Santos",
      "photoUrl": "https://lh3.googleusercontent.com/a-/AOh14Gh8H-b4B8IyNqw1iauF5gaY7Szue6PqX1tR9IZh4ijHL0Woth6Ix3YhETIZ8yfmtCVPj14m1WTuRHWoijS34sAymuG44GLec4XLgowikLlTVZnIKpgenatXE4W7_tATc4To6Uj0lLj7oOhOi9Sd5IeQZ7f84cNbfio3QxtxBUqZ3_n1k8XnfKUaXh7fBau7eL612K07b7TAXWI_AiGq9kHBPy2M21mqhNK6UF4mx9Cp3snwtxmRr0bshvuMojukVO757tXtbP_a8Zzoh-WGvk7MpbZLF8AAIf0Mc4iRzuKKqTl5CkERte0r3Y4aif1nMUA49xaIaPOBtnx0G0grg5McHWepadRaCWkzx3Q2w8KqIDPim4iTjWRfi4zuqt12fBG76YxkCBI5BP4MlCI6EbKMiPpG2zQXhXr2fAHKS8PQjWDQXea6XtdjNCJhlIEvBqzySr5EfwOy7hbcX_JOPkuTYNBbHuxK7KhHdmqlWdwDjfvM7DRb47Rf8S9NbcyMES6_zi3lM4Yb_1b0b8QWFmbOhnxJQ0pFwGKM0yorDcNaV2V1Lz_cGpKfTcDaiSvTkbLgOXuJWoshc0QUsJcoD2Bx92Z8WyX2CoJMQ_izvbbSWLChFV12FedNpnj192JimT58aas4HhKHTI4fXwFS76sS1mrsxGi8syA8exuAIB6ZuF2rSm97RRQoaXxSOoTw7ydoVkegHRYq9YLr7BgokdXPwBLJoEXb5KI9vE__fghM5E7eJbJgr32moUV14Nxb4dr5Ug=s64",
      "userId": "04288734832196105327"
     },
     "user_tz": 240
    },
    "id": "SuFa2BZOvO6R"
   },
   "outputs": [],
   "source": [
    "#Carregando a base de dados\n",
    "from sklearn.datasets import load_breast_cancer\n",
    "cancer = load_breast_cancer()"
   ]
  },
  {
   "cell_type": "code",
   "execution_count": null,
   "metadata": {
    "colab": {},
    "colab_type": "code",
    "id": "wWbOLR4kvO6U"
   },
   "outputs": [],
   "source": [
    "#Verificando quantidade de instâncias e de atributos\n",
    "# Vamos também acessar os dados\n",
    "\n",
    "print(cancer.data.shape)\n",
    "cancer.data"
   ]
  },
  {
   "cell_type": "code",
   "execution_count": null,
   "metadata": {
    "colab": {},
    "colab_type": "code",
    "id": "JzA-pRwkvO6W"
   },
   "outputs": [],
   "source": [
    "# E  as classes\n",
    "cancer.target"
   ]
  },
  {
   "cell_type": "markdown",
   "metadata": {
    "colab_type": "text",
    "id": "x-0xTdY2wuig"
   },
   "source": [
    "Como nós faremos ajustes dos parâmetros dos métodos de geração de conjuntos, nós vamos dividir a base em três partições: treino, validação e teste. A base de treino terá 60% das instâncias, enquanto as bases de teste e de validação terão 20% cada."
   ]
  },
  {
   "cell_type": "code",
   "execution_count": null,
   "metadata": {
    "colab": {},
    "colab_type": "code",
    "id": "NBeQv4W2vO6a"
   },
   "outputs": [],
   "source": [
    "#Vamos, inicialmente, dividir a base em duas partições: treino e teste. A base de treino terá 80% das instâncias, enquanto a de teste terá 20%\n",
    "\n",
    "from sklearn.model_selection import train_test_split\n",
    "\n",
    "#Dividindo a base (com seleção de instâncias aleatória)\n",
    "X_train, X_test, y_train, y_test = train_test_split(cancer.data, cancer.target, test_size=0.2, random_state = 42)\n",
    "\n",
    "#Checando a divisão das instâncias entre as duas bases\n",
    "print(X_train.shape, y_train.shape)\n",
    "print(X_test.shape, y_test.shape)"
   ]
  },
  {
   "cell_type": "markdown",
   "metadata": {
    "colab_type": "text",
    "id": "FR-sOSkFvQgg"
   },
   "source": [
    "Agora vamos dividir a base de treino em duas bases: treino e validação. Ao final, a base de treino terá 60% das instâncias originais, enquanto a base de validação terá 20%, assim como a base de teste já criada."
   ]
  },
  {
   "cell_type": "code",
   "execution_count": null,
   "metadata": {
    "colab": {},
    "colab_type": "code",
    "id": "GbEtPmC7vO6c"
   },
   "outputs": [],
   "source": [
    "#Dividindo a base de treino (com seleção de instâncias aleatória)\n",
    "X_train, X_val, y_train, y_val = train_test_split(X_train, y_train, test_size=0.25, random_state = 42)\n",
    "\n",
    "#Checando a divisão das instâncias entre as duas bases\n",
    "print(X_train.shape, y_train.shape)\n",
    "print(X_val.shape, y_val.shape)"
   ]
  },
  {
   "cell_type": "markdown",
   "metadata": {
    "colab_type": "text",
    "id": "4jrHJ2HXnEO6"
   },
   "source": [
    "Agora nós vamos comparar o desempenho dos métodos de **Conjuntos de Classificadores** novamente utilizando **Árvore de Decisão** como algoritmo de base. Antes de utilizarmos os métodos de conjuntos, vamos testar o desempenho de uma única árvore.\n",
    "É importante lembrar que, como haverá **ajuste de parâmetros**, a base de teste somente poderá ser usada ao final, após os parâmetros serem todos ajustados. Portanto, para o ajuste de parâmetros, nós utilizaremos a **base de validação**. Além disso, para facilitar a observação de ocorrência de **overfitting**, nós sempre compararemos a acurária no treino e na validação.\n"
   ]
  },
  {
   "cell_type": "code",
   "execution_count": null,
   "metadata": {
    "colab": {},
    "colab_type": "code",
    "id": "3hInUoC5YE8p"
   },
   "outputs": [],
   "source": [
    "# Cálculo da acurácia em validação de uma única árvore de decisão.\n",
    "\n",
    "# Árvore de Decisão\n",
    "DT_clf = DecisionTreeClassifier()\n",
    "DT_clf.fit(X_train, y_train)\n",
    "y_pred_DT = DT_clf.predict(X_val)\n",
    "train_pred_DT = DT_clf.predict(X_train)\n",
    "\n",
    "# Avaliação\n",
    "print(\"Acurácia no treino\", accuracy_score(y_train, train_pred_DT))\n",
    "print(\"Acurácia na validação\", accuracy_score(y_val, y_pred_DT))"
   ]
  },
  {
   "cell_type": "code",
   "execution_count": null,
   "metadata": {
    "colab": {},
    "colab_type": "code",
    "id": "_cG4bjkGZ7Rr"
   },
   "outputs": [],
   "source": [
    "#Vamos fazer as predições com os métodos de geração de conjuntos\n",
    "\n",
    "# Bagging\n",
    "BG_clf = BaggingClassifier(DecisionTreeClassifier(), n_estimators=15, random_state=0)\n",
    "BG_clf.fit(X_train, y_train)\n",
    "y_pred_BG = BG_clf.predict(X_val)\n",
    "train_pred_BG = BG_clf.predict(X_train)\n",
    "\n",
    "# Avaliação\n",
    "print(\"Acurácia no treino\", accuracy_score(y_train, train_pred_BG))\n",
    "print(\"Acurácia na validação\", accuracy_score(y_val, y_pred_BG))"
   ]
  },
  {
   "cell_type": "code",
   "execution_count": null,
   "metadata": {
    "colab": {},
    "colab_type": "code",
    "id": "KX_X75QyRmr7"
   },
   "outputs": [],
   "source": [
    "#Random Forest"
   ]
  },
  {
   "cell_type": "code",
   "execution_count": null,
   "metadata": {
    "colab": {},
    "colab_type": "code",
    "id": "hst7A0K8RmsG"
   },
   "outputs": [],
   "source": [
    "#AdaBoost"
   ]
  },
  {
   "cell_type": "code",
   "execution_count": null,
   "metadata": {
    "colab": {},
    "colab_type": "code",
    "id": "I7pVMeL1RmsP"
   },
   "outputs": [],
   "source": [
    "#GradientBoost"
   ]
  },
  {
   "cell_type": "markdown",
   "metadata": {
    "colab_type": "text",
    "id": "4sSUBR9iWp7U"
   },
   "source": [
    "**Atividade**\n",
    "\n",
    "1. Primeiramente, você deverá estudar com detalhes os parâmetros de cada método de geração de conjunto.\n",
    "2. Utilize a base de validação para ajustar os parâmetros de cada método geração de conjunto a fim de definir a melhor combinação de parâmetros de cada método.\n",
    "3. Utilize a base de teste para comparar os resultados obtidos pela melhor versão de cada método de geração de conjuntos (definida na base de validação). Qual dos algoritmos de Aprendizagem de Máquina para geração de conjuntos de preditores testados apresentou melhor resultado? Apesente os resultados de comparação.\n"
   ]
  }
 ],
 "metadata": {
  "colab": {
   "authorship_tag": "ABX9TyOu0lwo87K8zXlCe/KNV2TS",
   "collapsed_sections": [],
   "name": "Aula_Prática_Conjuntos_Não_Compartilhada_21_07_20.ipynb",
   "provenance": [
    {
     "file_id": "1UDrrPHsN5S7UCdoAPrzNM1G23_nvH-jN",
     "timestamp": 1595538514082
    }
   ]
  },
  "kernelspec": {
   "display_name": "Python 3",
   "language": "python",
   "name": "python3"
  },
  "language_info": {
   "codemirror_mode": {
    "name": "ipython",
    "version": 3
   },
   "file_extension": ".py",
   "mimetype": "text/x-python",
   "name": "python",
   "nbconvert_exporter": "python",
   "pygments_lexer": "ipython3",
   "version": "3.7.7"
  }
 },
 "nbformat": 4,
 "nbformat_minor": 1
}
