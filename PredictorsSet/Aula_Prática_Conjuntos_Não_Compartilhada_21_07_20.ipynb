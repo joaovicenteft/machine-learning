{
 "cells": [
  {
   "cell_type": "markdown",
   "metadata": {
    "colab_type": "text",
    "id": "5Q936NDXKXYD"
   },
   "source": [
    "## <h3 align=\"center\"> **Atividade Prática**</h3> \n",
    "\n",
    "\n",
    "\n",
    "\n",
    "<h3 align=\"center\"> Data: 21-07-2020 </h3> "
   ]
  },
  {
   "cell_type": "markdown",
   "metadata": {
    "colab_type": "text",
    "id": "5XBdCvyUTLmg"
   },
   "source": [
    "# Vamos iniciar trabalhando com os diferentes métodos de geração de conjuntos de classificadores. \n"
   ]
  },
  {
   "cell_type": "code",
   "execution_count": 2,
   "metadata": {
    "colab": {},
    "colab_type": "code",
    "executionInfo": {
     "elapsed": 2546,
     "status": "ok",
     "timestamp": 1595970345203,
     "user": {
      "displayName": "Eulanda Santos",
      "photoUrl": "https://lh3.googleusercontent.com/a-/AOh14Gh8H-b4B8IyNqw1iauF5gaY7Szue6PqX1tR9IZh4ijHL0Woth6Ix3YhETIZ8yfmtCVPj14m1WTuRHWoijS34sAymuG44GLec4XLgowikLlTVZnIKpgenatXE4W7_tATc4To6Uj0lLj7oOhOi9Sd5IeQZ7f84cNbfio3QxtxBUqZ3_n1k8XnfKUaXh7fBau7eL612K07b7TAXWI_AiGq9kHBPy2M21mqhNK6UF4mx9Cp3snwtxmRr0bshvuMojukVO757tXtbP_a8Zzoh-WGvk7MpbZLF8AAIf0Mc4iRzuKKqTl5CkERte0r3Y4aif1nMUA49xaIaPOBtnx0G0grg5McHWepadRaCWkzx3Q2w8KqIDPim4iTjWRfi4zuqt12fBG76YxkCBI5BP4MlCI6EbKMiPpG2zQXhXr2fAHKS8PQjWDQXea6XtdjNCJhlIEvBqzySr5EfwOy7hbcX_JOPkuTYNBbHuxK7KhHdmqlWdwDjfvM7DRb47Rf8S9NbcyMES6_zi3lM4Yb_1b0b8QWFmbOhnxJQ0pFwGKM0yorDcNaV2V1Lz_cGpKfTcDaiSvTkbLgOXuJWoshc0QUsJcoD2Bx92Z8WyX2CoJMQ_izvbbSWLChFV12FedNpnj192JimT58aas4HhKHTI4fXwFS76sS1mrsxGi8syA8exuAIB6ZuF2rSm97RRQoaXxSOoTw7ydoVkegHRYq9YLr7BgokdXPwBLJoEXb5KI9vE__fghM5E7eJbJgr32moUV14Nxb4dr5Ug=s64",
      "userId": "04288734832196105327"
     },
     "user_tz": 240
    },
    "id": "B_pypY8nZ2v3"
   },
   "outputs": [],
   "source": [
    "# Importando bibliotecas necessárias\n",
    "import matplotlib\n",
    "import matplotlib.pyplot as plt\n",
    "import numpy as np\n",
    "import sklearn"
   ]
  },
  {
   "cell_type": "markdown",
   "metadata": {
    "colab_type": "text",
    "id": "aiVGWEYQA_QZ"
   },
   "source": [
    "Vamos utilizar a base **Iris**"
   ]
  },
  {
   "cell_type": "code",
   "execution_count": 3,
   "metadata": {
    "colab": {},
    "colab_type": "code",
    "executionInfo": {
     "elapsed": 2637,
     "status": "ok",
     "timestamp": 1595970351006,
     "user": {
      "displayName": "Eulanda Santos",
      "photoUrl": "https://lh3.googleusercontent.com/a-/AOh14Gh8H-b4B8IyNqw1iauF5gaY7Szue6PqX1tR9IZh4ijHL0Woth6Ix3YhETIZ8yfmtCVPj14m1WTuRHWoijS34sAymuG44GLec4XLgowikLlTVZnIKpgenatXE4W7_tATc4To6Uj0lLj7oOhOi9Sd5IeQZ7f84cNbfio3QxtxBUqZ3_n1k8XnfKUaXh7fBau7eL612K07b7TAXWI_AiGq9kHBPy2M21mqhNK6UF4mx9Cp3snwtxmRr0bshvuMojukVO757tXtbP_a8Zzoh-WGvk7MpbZLF8AAIf0Mc4iRzuKKqTl5CkERte0r3Y4aif1nMUA49xaIaPOBtnx0G0grg5McHWepadRaCWkzx3Q2w8KqIDPim4iTjWRfi4zuqt12fBG76YxkCBI5BP4MlCI6EbKMiPpG2zQXhXr2fAHKS8PQjWDQXea6XtdjNCJhlIEvBqzySr5EfwOy7hbcX_JOPkuTYNBbHuxK7KhHdmqlWdwDjfvM7DRb47Rf8S9NbcyMES6_zi3lM4Yb_1b0b8QWFmbOhnxJQ0pFwGKM0yorDcNaV2V1Lz_cGpKfTcDaiSvTkbLgOXuJWoshc0QUsJcoD2Bx92Z8WyX2CoJMQ_izvbbSWLChFV12FedNpnj192JimT58aas4HhKHTI4fXwFS76sS1mrsxGi8syA8exuAIB6ZuF2rSm97RRQoaXxSOoTw7ydoVkegHRYq9YLr7BgokdXPwBLJoEXb5KI9vE__fghM5E7eJbJgr32moUV14Nxb4dr5Ug=s64",
      "userId": "04288734832196105327"
     },
     "user_tz": 240
    },
    "id": "mw58wRPx5D7V"
   },
   "outputs": [],
   "source": [
    "from sklearn.datasets import load_iris\n",
    "iris_dataset = load_iris()"
   ]
  },
  {
   "cell_type": "markdown",
   "metadata": {
    "colab_type": "text",
    "id": "mMNTVd9q5Cxj"
   },
   "source": [
    "Relembrando a base Iris\n",
    "\n",
    "\n",
    "---\n",
    "\n",
    "\n",
    "![texto alternativo](https://drive.google.com/uc?export=view&id=1y60Qw8n06cfSgDXL_sqHFaTYQl-tTpmE) "
   ]
  },
  {
   "cell_type": "code",
   "execution_count": 4,
   "metadata": {
    "colab": {},
    "colab_type": "code",
    "id": "MkHEgR0f5gwR"
   },
   "outputs": [
    {
     "name": "stdout",
     "output_type": "stream",
     "text": [
      ".. _iris_dataset:\n",
      "\n",
      "Iris plants dataset\n",
      "--------------------\n",
      "\n",
      "**Data Set Characteristics:**\n",
      "\n",
      "    :Number of Instances: 150 (50 in each of three classes)\n",
      "    :Number of Attributes: 4 numeric, pre\n",
      "...\n"
     ]
    }
   ],
   "source": [
    "print(iris_dataset['DESCR'][:193] + \"\\n...\")"
   ]
  },
  {
   "cell_type": "code",
   "execution_count": 5,
   "metadata": {
    "colab": {},
    "colab_type": "code",
    "id": "hdDKxV51mTEZ"
   },
   "outputs": [
    {
     "data": {
      "text/plain": [
       "{'data': array([[5.1, 3.5, 1.4, 0.2],\n",
       "        [4.9, 3. , 1.4, 0.2],\n",
       "        [4.7, 3.2, 1.3, 0.2],\n",
       "        [4.6, 3.1, 1.5, 0.2],\n",
       "        [5. , 3.6, 1.4, 0.2],\n",
       "        [5.4, 3.9, 1.7, 0.4],\n",
       "        [4.6, 3.4, 1.4, 0.3],\n",
       "        [5. , 3.4, 1.5, 0.2],\n",
       "        [4.4, 2.9, 1.4, 0.2],\n",
       "        [4.9, 3.1, 1.5, 0.1],\n",
       "        [5.4, 3.7, 1.5, 0.2],\n",
       "        [4.8, 3.4, 1.6, 0.2],\n",
       "        [4.8, 3. , 1.4, 0.1],\n",
       "        [4.3, 3. , 1.1, 0.1],\n",
       "        [5.8, 4. , 1.2, 0.2],\n",
       "        [5.7, 4.4, 1.5, 0.4],\n",
       "        [5.4, 3.9, 1.3, 0.4],\n",
       "        [5.1, 3.5, 1.4, 0.3],\n",
       "        [5.7, 3.8, 1.7, 0.3],\n",
       "        [5.1, 3.8, 1.5, 0.3],\n",
       "        [5.4, 3.4, 1.7, 0.2],\n",
       "        [5.1, 3.7, 1.5, 0.4],\n",
       "        [4.6, 3.6, 1. , 0.2],\n",
       "        [5.1, 3.3, 1.7, 0.5],\n",
       "        [4.8, 3.4, 1.9, 0.2],\n",
       "        [5. , 3. , 1.6, 0.2],\n",
       "        [5. , 3.4, 1.6, 0.4],\n",
       "        [5.2, 3.5, 1.5, 0.2],\n",
       "        [5.2, 3.4, 1.4, 0.2],\n",
       "        [4.7, 3.2, 1.6, 0.2],\n",
       "        [4.8, 3.1, 1.6, 0.2],\n",
       "        [5.4, 3.4, 1.5, 0.4],\n",
       "        [5.2, 4.1, 1.5, 0.1],\n",
       "        [5.5, 4.2, 1.4, 0.2],\n",
       "        [4.9, 3.1, 1.5, 0.2],\n",
       "        [5. , 3.2, 1.2, 0.2],\n",
       "        [5.5, 3.5, 1.3, 0.2],\n",
       "        [4.9, 3.6, 1.4, 0.1],\n",
       "        [4.4, 3. , 1.3, 0.2],\n",
       "        [5.1, 3.4, 1.5, 0.2],\n",
       "        [5. , 3.5, 1.3, 0.3],\n",
       "        [4.5, 2.3, 1.3, 0.3],\n",
       "        [4.4, 3.2, 1.3, 0.2],\n",
       "        [5. , 3.5, 1.6, 0.6],\n",
       "        [5.1, 3.8, 1.9, 0.4],\n",
       "        [4.8, 3. , 1.4, 0.3],\n",
       "        [5.1, 3.8, 1.6, 0.2],\n",
       "        [4.6, 3.2, 1.4, 0.2],\n",
       "        [5.3, 3.7, 1.5, 0.2],\n",
       "        [5. , 3.3, 1.4, 0.2],\n",
       "        [7. , 3.2, 4.7, 1.4],\n",
       "        [6.4, 3.2, 4.5, 1.5],\n",
       "        [6.9, 3.1, 4.9, 1.5],\n",
       "        [5.5, 2.3, 4. , 1.3],\n",
       "        [6.5, 2.8, 4.6, 1.5],\n",
       "        [5.7, 2.8, 4.5, 1.3],\n",
       "        [6.3, 3.3, 4.7, 1.6],\n",
       "        [4.9, 2.4, 3.3, 1. ],\n",
       "        [6.6, 2.9, 4.6, 1.3],\n",
       "        [5.2, 2.7, 3.9, 1.4],\n",
       "        [5. , 2. , 3.5, 1. ],\n",
       "        [5.9, 3. , 4.2, 1.5],\n",
       "        [6. , 2.2, 4. , 1. ],\n",
       "        [6.1, 2.9, 4.7, 1.4],\n",
       "        [5.6, 2.9, 3.6, 1.3],\n",
       "        [6.7, 3.1, 4.4, 1.4],\n",
       "        [5.6, 3. , 4.5, 1.5],\n",
       "        [5.8, 2.7, 4.1, 1. ],\n",
       "        [6.2, 2.2, 4.5, 1.5],\n",
       "        [5.6, 2.5, 3.9, 1.1],\n",
       "        [5.9, 3.2, 4.8, 1.8],\n",
       "        [6.1, 2.8, 4. , 1.3],\n",
       "        [6.3, 2.5, 4.9, 1.5],\n",
       "        [6.1, 2.8, 4.7, 1.2],\n",
       "        [6.4, 2.9, 4.3, 1.3],\n",
       "        [6.6, 3. , 4.4, 1.4],\n",
       "        [6.8, 2.8, 4.8, 1.4],\n",
       "        [6.7, 3. , 5. , 1.7],\n",
       "        [6. , 2.9, 4.5, 1.5],\n",
       "        [5.7, 2.6, 3.5, 1. ],\n",
       "        [5.5, 2.4, 3.8, 1.1],\n",
       "        [5.5, 2.4, 3.7, 1. ],\n",
       "        [5.8, 2.7, 3.9, 1.2],\n",
       "        [6. , 2.7, 5.1, 1.6],\n",
       "        [5.4, 3. , 4.5, 1.5],\n",
       "        [6. , 3.4, 4.5, 1.6],\n",
       "        [6.7, 3.1, 4.7, 1.5],\n",
       "        [6.3, 2.3, 4.4, 1.3],\n",
       "        [5.6, 3. , 4.1, 1.3],\n",
       "        [5.5, 2.5, 4. , 1.3],\n",
       "        [5.5, 2.6, 4.4, 1.2],\n",
       "        [6.1, 3. , 4.6, 1.4],\n",
       "        [5.8, 2.6, 4. , 1.2],\n",
       "        [5. , 2.3, 3.3, 1. ],\n",
       "        [5.6, 2.7, 4.2, 1.3],\n",
       "        [5.7, 3. , 4.2, 1.2],\n",
       "        [5.7, 2.9, 4.2, 1.3],\n",
       "        [6.2, 2.9, 4.3, 1.3],\n",
       "        [5.1, 2.5, 3. , 1.1],\n",
       "        [5.7, 2.8, 4.1, 1.3],\n",
       "        [6.3, 3.3, 6. , 2.5],\n",
       "        [5.8, 2.7, 5.1, 1.9],\n",
       "        [7.1, 3. , 5.9, 2.1],\n",
       "        [6.3, 2.9, 5.6, 1.8],\n",
       "        [6.5, 3. , 5.8, 2.2],\n",
       "        [7.6, 3. , 6.6, 2.1],\n",
       "        [4.9, 2.5, 4.5, 1.7],\n",
       "        [7.3, 2.9, 6.3, 1.8],\n",
       "        [6.7, 2.5, 5.8, 1.8],\n",
       "        [7.2, 3.6, 6.1, 2.5],\n",
       "        [6.5, 3.2, 5.1, 2. ],\n",
       "        [6.4, 2.7, 5.3, 1.9],\n",
       "        [6.8, 3. , 5.5, 2.1],\n",
       "        [5.7, 2.5, 5. , 2. ],\n",
       "        [5.8, 2.8, 5.1, 2.4],\n",
       "        [6.4, 3.2, 5.3, 2.3],\n",
       "        [6.5, 3. , 5.5, 1.8],\n",
       "        [7.7, 3.8, 6.7, 2.2],\n",
       "        [7.7, 2.6, 6.9, 2.3],\n",
       "        [6. , 2.2, 5. , 1.5],\n",
       "        [6.9, 3.2, 5.7, 2.3],\n",
       "        [5.6, 2.8, 4.9, 2. ],\n",
       "        [7.7, 2.8, 6.7, 2. ],\n",
       "        [6.3, 2.7, 4.9, 1.8],\n",
       "        [6.7, 3.3, 5.7, 2.1],\n",
       "        [7.2, 3.2, 6. , 1.8],\n",
       "        [6.2, 2.8, 4.8, 1.8],\n",
       "        [6.1, 3. , 4.9, 1.8],\n",
       "        [6.4, 2.8, 5.6, 2.1],\n",
       "        [7.2, 3. , 5.8, 1.6],\n",
       "        [7.4, 2.8, 6.1, 1.9],\n",
       "        [7.9, 3.8, 6.4, 2. ],\n",
       "        [6.4, 2.8, 5.6, 2.2],\n",
       "        [6.3, 2.8, 5.1, 1.5],\n",
       "        [6.1, 2.6, 5.6, 1.4],\n",
       "        [7.7, 3. , 6.1, 2.3],\n",
       "        [6.3, 3.4, 5.6, 2.4],\n",
       "        [6.4, 3.1, 5.5, 1.8],\n",
       "        [6. , 3. , 4.8, 1.8],\n",
       "        [6.9, 3.1, 5.4, 2.1],\n",
       "        [6.7, 3.1, 5.6, 2.4],\n",
       "        [6.9, 3.1, 5.1, 2.3],\n",
       "        [5.8, 2.7, 5.1, 1.9],\n",
       "        [6.8, 3.2, 5.9, 2.3],\n",
       "        [6.7, 3.3, 5.7, 2.5],\n",
       "        [6.7, 3. , 5.2, 2.3],\n",
       "        [6.3, 2.5, 5. , 1.9],\n",
       "        [6.5, 3. , 5.2, 2. ],\n",
       "        [6.2, 3.4, 5.4, 2.3],\n",
       "        [5.9, 3. , 5.1, 1.8]]),\n",
       " 'target': array([0, 0, 0, 0, 0, 0, 0, 0, 0, 0, 0, 0, 0, 0, 0, 0, 0, 0, 0, 0, 0, 0,\n",
       "        0, 0, 0, 0, 0, 0, 0, 0, 0, 0, 0, 0, 0, 0, 0, 0, 0, 0, 0, 0, 0, 0,\n",
       "        0, 0, 0, 0, 0, 0, 1, 1, 1, 1, 1, 1, 1, 1, 1, 1, 1, 1, 1, 1, 1, 1,\n",
       "        1, 1, 1, 1, 1, 1, 1, 1, 1, 1, 1, 1, 1, 1, 1, 1, 1, 1, 1, 1, 1, 1,\n",
       "        1, 1, 1, 1, 1, 1, 1, 1, 1, 1, 1, 1, 2, 2, 2, 2, 2, 2, 2, 2, 2, 2,\n",
       "        2, 2, 2, 2, 2, 2, 2, 2, 2, 2, 2, 2, 2, 2, 2, 2, 2, 2, 2, 2, 2, 2,\n",
       "        2, 2, 2, 2, 2, 2, 2, 2, 2, 2, 2, 2, 2, 2, 2, 2, 2, 2]),\n",
       " 'frame': None,\n",
       " 'target_names': array(['setosa', 'versicolor', 'virginica'], dtype='<U10'),\n",
       " 'DESCR': '.. _iris_dataset:\\n\\nIris plants dataset\\n--------------------\\n\\n**Data Set Characteristics:**\\n\\n    :Number of Instances: 150 (50 in each of three classes)\\n    :Number of Attributes: 4 numeric, predictive attributes and the class\\n    :Attribute Information:\\n        - sepal length in cm\\n        - sepal width in cm\\n        - petal length in cm\\n        - petal width in cm\\n        - class:\\n                - Iris-Setosa\\n                - Iris-Versicolour\\n                - Iris-Virginica\\n                \\n    :Summary Statistics:\\n\\n    ============== ==== ==== ======= ===== ====================\\n                    Min  Max   Mean    SD   Class Correlation\\n    ============== ==== ==== ======= ===== ====================\\n    sepal length:   4.3  7.9   5.84   0.83    0.7826\\n    sepal width:    2.0  4.4   3.05   0.43   -0.4194\\n    petal length:   1.0  6.9   3.76   1.76    0.9490  (high!)\\n    petal width:    0.1  2.5   1.20   0.76    0.9565  (high!)\\n    ============== ==== ==== ======= ===== ====================\\n\\n    :Missing Attribute Values: None\\n    :Class Distribution: 33.3% for each of 3 classes.\\n    :Creator: R.A. Fisher\\n    :Donor: Michael Marshall (MARSHALL%PLU@io.arc.nasa.gov)\\n    :Date: July, 1988\\n\\nThe famous Iris database, first used by Sir R.A. Fisher. The dataset is taken\\nfrom Fisher\\'s paper. Note that it\\'s the same as in R, but not as in the UCI\\nMachine Learning Repository, which has two wrong data points.\\n\\nThis is perhaps the best known database to be found in the\\npattern recognition literature.  Fisher\\'s paper is a classic in the field and\\nis referenced frequently to this day.  (See Duda & Hart, for example.)  The\\ndata set contains 3 classes of 50 instances each, where each class refers to a\\ntype of iris plant.  One class is linearly separable from the other 2; the\\nlatter are NOT linearly separable from each other.\\n\\n.. topic:: References\\n\\n   - Fisher, R.A. \"The use of multiple measurements in taxonomic problems\"\\n     Annual Eugenics, 7, Part II, 179-188 (1936); also in \"Contributions to\\n     Mathematical Statistics\" (John Wiley, NY, 1950).\\n   - Duda, R.O., & Hart, P.E. (1973) Pattern Classification and Scene Analysis.\\n     (Q327.D83) John Wiley & Sons.  ISBN 0-471-22361-1.  See page 218.\\n   - Dasarathy, B.V. (1980) \"Nosing Around the Neighborhood: A New System\\n     Structure and Classification Rule for Recognition in Partially Exposed\\n     Environments\".  IEEE Transactions on Pattern Analysis and Machine\\n     Intelligence, Vol. PAMI-2, No. 1, 67-71.\\n   - Gates, G.W. (1972) \"The Reduced Nearest Neighbor Rule\".  IEEE Transactions\\n     on Information Theory, May 1972, 431-433.\\n   - See also: 1988 MLC Proceedings, 54-64.  Cheeseman et al\"s AUTOCLASS II\\n     conceptual clustering system finds 3 classes in the data.\\n   - Many, many more ...',\n",
       " 'feature_names': ['sepal length (cm)',\n",
       "  'sepal width (cm)',\n",
       "  'petal length (cm)',\n",
       "  'petal width (cm)'],\n",
       " 'filename': '/home/joaovicente/.local/lib/python3.7/site-packages/sklearn/datasets/data/iris.csv'}"
      ]
     },
     "execution_count": 5,
     "metadata": {},
     "output_type": "execute_result"
    }
   ],
   "source": [
    "iris_dataset"
   ]
  },
  {
   "cell_type": "code",
   "execution_count": 6,
   "metadata": {
    "colab": {},
    "colab_type": "code",
    "executionInfo": {
     "elapsed": 1314,
     "status": "ok",
     "timestamp": 1595970356663,
     "user": {
      "displayName": "Eulanda Santos",
      "photoUrl": "https://lh3.googleusercontent.com/a-/AOh14Gh8H-b4B8IyNqw1iauF5gaY7Szue6PqX1tR9IZh4ijHL0Woth6Ix3YhETIZ8yfmtCVPj14m1WTuRHWoijS34sAymuG44GLec4XLgowikLlTVZnIKpgenatXE4W7_tATc4To6Uj0lLj7oOhOi9Sd5IeQZ7f84cNbfio3QxtxBUqZ3_n1k8XnfKUaXh7fBau7eL612K07b7TAXWI_AiGq9kHBPy2M21mqhNK6UF4mx9Cp3snwtxmRr0bshvuMojukVO757tXtbP_a8Zzoh-WGvk7MpbZLF8AAIf0Mc4iRzuKKqTl5CkERte0r3Y4aif1nMUA49xaIaPOBtnx0G0grg5McHWepadRaCWkzx3Q2w8KqIDPim4iTjWRfi4zuqt12fBG76YxkCBI5BP4MlCI6EbKMiPpG2zQXhXr2fAHKS8PQjWDQXea6XtdjNCJhlIEvBqzySr5EfwOy7hbcX_JOPkuTYNBbHuxK7KhHdmqlWdwDjfvM7DRb47Rf8S9NbcyMES6_zi3lM4Yb_1b0b8QWFmbOhnxJQ0pFwGKM0yorDcNaV2V1Lz_cGpKfTcDaiSvTkbLgOXuJWoshc0QUsJcoD2Bx92Z8WyX2CoJMQ_izvbbSWLChFV12FedNpnj192JimT58aas4HhKHTI4fXwFS76sS1mrsxGi8syA8exuAIB6ZuF2rSm97RRQoaXxSOoTw7ydoVkegHRYq9YLr7BgokdXPwBLJoEXb5KI9vE__fghM5E7eJbJgr32moUV14Nxb4dr5Ug=s64",
      "userId": "04288734832196105327"
     },
     "user_tz": 240
    },
    "id": "BsHbaPDa4uvC"
   },
   "outputs": [],
   "source": [
    "# Particionando a base em treino e teste\n",
    "from sklearn.model_selection import train_test_split\n",
    "X_train, X_test, y_train, y_test = train_test_split(\n",
    "    iris_dataset['data'], iris_dataset['target'], random_state=0)"
   ]
  },
  {
   "cell_type": "code",
   "execution_count": 7,
   "metadata": {
    "colab": {},
    "colab_type": "code",
    "id": "xbwTfC0h-zVB"
   },
   "outputs": [
    {
     "name": "stdout",
     "output_type": "stream",
     "text": [
      "Particao de Treino (112, 4)\n",
      "Particao de Teste (38, 4)\n"
     ]
    }
   ],
   "source": [
    "#Como as estão distribuídas entre as partições\n",
    "print(\"Particao de Treino\", X_train.shape)\n",
    "print(\"Particao de Teste\", X_test.shape)"
   ]
  },
  {
   "cell_type": "markdown",
   "metadata": {
    "colab_type": "text",
    "id": "gLO79FJLaw5j"
   },
   "source": [
    "## **Será que um comitê é sempre melhor do que um preditor individual?**\n",
    " Aqui, nós vamos comparar Bagging, Boosting e Random Forest, todos utilizados com o Árvore de Decisão como algoritmo de base. \n",
    " Nós vamos comparar o resultado obtido por cada método de geração de conjunto com o resultado de uma árvore de decisão."
   ]
  },
  {
   "cell_type": "code",
   "execution_count": 8,
   "metadata": {
    "colab": {},
    "colab_type": "code",
    "executionInfo": {
     "elapsed": 1643,
     "status": "ok",
     "timestamp": 1595970362578,
     "user": {
      "displayName": "Eulanda Santos",
      "photoUrl": "https://lh3.googleusercontent.com/a-/AOh14Gh8H-b4B8IyNqw1iauF5gaY7Szue6PqX1tR9IZh4ijHL0Woth6Ix3YhETIZ8yfmtCVPj14m1WTuRHWoijS34sAymuG44GLec4XLgowikLlTVZnIKpgenatXE4W7_tATc4To6Uj0lLj7oOhOi9Sd5IeQZ7f84cNbfio3QxtxBUqZ3_n1k8XnfKUaXh7fBau7eL612K07b7TAXWI_AiGq9kHBPy2M21mqhNK6UF4mx9Cp3snwtxmRr0bshvuMojukVO757tXtbP_a8Zzoh-WGvk7MpbZLF8AAIf0Mc4iRzuKKqTl5CkERte0r3Y4aif1nMUA49xaIaPOBtnx0G0grg5McHWepadRaCWkzx3Q2w8KqIDPim4iTjWRfi4zuqt12fBG76YxkCBI5BP4MlCI6EbKMiPpG2zQXhXr2fAHKS8PQjWDQXea6XtdjNCJhlIEvBqzySr5EfwOy7hbcX_JOPkuTYNBbHuxK7KhHdmqlWdwDjfvM7DRb47Rf8S9NbcyMES6_zi3lM4Yb_1b0b8QWFmbOhnxJQ0pFwGKM0yorDcNaV2V1Lz_cGpKfTcDaiSvTkbLgOXuJWoshc0QUsJcoD2Bx92Z8WyX2CoJMQ_izvbbSWLChFV12FedNpnj192JimT58aas4HhKHTI4fXwFS76sS1mrsxGi8syA8exuAIB6ZuF2rSm97RRQoaXxSOoTw7ydoVkegHRYq9YLr7BgokdXPwBLJoEXb5KI9vE__fghM5E7eJbJgr32moUV14Nxb4dr5Ug=s64",
      "userId": "04288734832196105327"
     },
     "user_tz": 240
    },
    "id": "xbXLa_eU_E0S"
   },
   "outputs": [],
   "source": [
    "# Chamando os métodos que serão utilizados\n",
    "from sklearn.tree import DecisionTreeClassifier\n",
    "from sklearn.ensemble import BaggingClassifier\n",
    "from sklearn.ensemble import RandomForestClassifier\n",
    "from sklearn.ensemble import AdaBoostClassifier\n",
    "from sklearn.ensemble import GradientBoostingClassifier\n",
    "\n",
    "# Para avaliação\n",
    "from sklearn.metrics import accuracy_score\n"
   ]
  },
  {
   "cell_type": "markdown",
   "metadata": {
    "colab_type": "text",
    "id": "A-YZPlBRvkxC"
   },
   "source": [
    "Agora,vamos testar os métodos de geração de conjuntos básicos todos utilizando Árvores de Decisão como Classificadores de base"
   ]
  },
  {
   "cell_type": "code",
   "execution_count": 9,
   "metadata": {
    "colab": {},
    "colab_type": "code",
    "id": "8qxgOYvPc9T7"
   },
   "outputs": [
    {
     "name": "stdout",
     "output_type": "stream",
     "text": [
      "0.9736842105263158\n"
     ]
    }
   ],
   "source": [
    "#Bagging : gerando o modelo\n",
    "\n",
    "bag_clf = BaggingClassifier(DecisionTreeClassifier(), n_estimators=15, random_state=0)\n",
    "\n",
    "# Treinando, testando e avaliando\n",
    "bag_clf.fit(X_train, y_train)\n",
    "y_pred_bag = bag_clf.predict(X_test)\n",
    "print(accuracy_score(y_test, y_pred_bag))"
   ]
  },
  {
   "cell_type": "code",
   "execution_count": 10,
   "metadata": {
    "colab": {},
    "colab_type": "code",
    "id": "nTl6-Ui5iMNL"
   },
   "outputs": [
    {
     "name": "stdout",
     "output_type": "stream",
     "text": [
      "0.9473684210526315\n"
     ]
    }
   ],
   "source": [
    "#Random Forest\n",
    "\n",
    "randomForest = RandomForestClassifier(max_depth=1, random_state=0)\n",
    "\n",
    "\n",
    "randomForest.fit(X_train, y_train)\n",
    "yPredRF = randomForest.predict(X_test)\n",
    "\n",
    "print(accuracy_score(y_test, yPredRF))"
   ]
  },
  {
   "cell_type": "code",
   "execution_count": 11,
   "metadata": {
    "colab": {},
    "colab_type": "code",
    "id": "YxTKnvVPiPiQ"
   },
   "outputs": [
    {
     "name": "stdout",
     "output_type": "stream",
     "text": [
      "0.8947368421052632\n"
     ]
    }
   ],
   "source": [
    "#AdaBoost\n",
    "\n",
    "adaBoost = AdaBoostClassifier(n_estimators=100, random_state=0)\n",
    "\n",
    "adaBoost.fit(X_train, y_train)\n",
    "yPredAB = adaBoost.predict(X_test)\n",
    "\n",
    "print(accuracy_score(y_test, yPredAB))\n",
    "\n"
   ]
  },
  {
   "cell_type": "code",
   "execution_count": 12,
   "metadata": {
    "colab": {},
    "colab_type": "code",
    "id": "tKA_E30DiSkb"
   },
   "outputs": [
    {
     "name": "stdout",
     "output_type": "stream",
     "text": [
      "0.9736842105263158\n"
     ]
    }
   ],
   "source": [
    "#GradientBoost\n",
    "\n",
    "gradientBoost = GradientBoostingClassifier(random_state=0)\n",
    "\n",
    "gradientBoost.fit(X_train, y_train)\n",
    "\n",
    "yPredGB = gradientBoost.predict(X_test)\n",
    "\n",
    "print(accuracy_score(y_test, yPredGB))"
   ]
  },
  {
   "cell_type": "markdown",
   "metadata": {
    "colab_type": "text",
    "id": "pvERSh51iYu6"
   },
   "source": [
    "E somente uma árvore de decisão? Qual será o resultado?"
   ]
  },
  {
   "cell_type": "code",
   "execution_count": 13,
   "metadata": {
    "colab": {},
    "colab_type": "code",
    "id": "xlZQIBTTFZJN"
   },
   "outputs": [
    {
     "name": "stdout",
     "output_type": "stream",
     "text": [
      "0.9736842105263158\n"
     ]
    }
   ],
   "source": [
    "# Árvore de Decisão\n",
    "DT_clf = DecisionTreeClassifier()\n",
    "DT_clf.fit(X_train, y_train)\n",
    "y_pred_DT = DT_clf.predict(X_test)\n",
    "\n",
    "# Avaliação\n",
    "print(accuracy_score(y_test, y_pred_DT))"
   ]
  },
  {
   "cell_type": "markdown",
   "metadata": {
    "colab_type": "text",
    "id": "1HJsXasHI0ip"
   },
   "source": [
    "**Modificando a base de Dados**\n",
    "\n",
    "Nós vamos fazer o mesmo teste, só que utilizando a base de dados Brest Cancer."
   ]
  },
  {
   "cell_type": "markdown",
   "metadata": {
    "colab_type": "text",
    "id": "neX2378I_3H5"
   },
   "source": [
    "**Relembrando a base Brest Cancer**\n",
    "\n",
    "Neste exemplo, nós utilizaremos a base **Breast Cancer** disponível no sklearn, mas originário do repositório da UCI (https://archive.ics.uci.edu/ml/datasets/breast+cancer). Trata-se de uma base de dados que foi obtida a partir de imagens digitalizadas de massas mamárias e que descrevem **dois** tipos de classe: maligno (harmful) e benigno (not harmful). Os atributos descrevem características dos núcleos celulares presentes nas imagens.\n",
    "\n",
    "No total, são **30 atributos** ordenados: raio médio, textura média, perímetro médio, área média, suavidade média, compacidade média, concavidade média, pontos côncavos médios, simetria média, dimensão fractal média, erro de raio, erro de textura, erro de perímetro, erro de área, erro de suavidade, erro de compactação, erro de concavidade, erro de pontos côncavos, erro de simetria, erro de dimensão fractal, pior raio, pior textura, pior perímetro, pior área, pior suavidade, pior compacidade, pior concavidade, piores pontos côncavos, pior simetria e pior dimensão fractal) e um alvo (tipo de câncer).\n",
    "\n"
   ]
  },
  {
   "cell_type": "code",
   "execution_count": 14,
   "metadata": {
    "colab": {},
    "colab_type": "code",
    "executionInfo": {
     "elapsed": 1218,
     "status": "ok",
     "timestamp": 1595970659274,
     "user": {
      "displayName": "Eulanda Santos",
      "photoUrl": "https://lh3.googleusercontent.com/a-/AOh14Gh8H-b4B8IyNqw1iauF5gaY7Szue6PqX1tR9IZh4ijHL0Woth6Ix3YhETIZ8yfmtCVPj14m1WTuRHWoijS34sAymuG44GLec4XLgowikLlTVZnIKpgenatXE4W7_tATc4To6Uj0lLj7oOhOi9Sd5IeQZ7f84cNbfio3QxtxBUqZ3_n1k8XnfKUaXh7fBau7eL612K07b7TAXWI_AiGq9kHBPy2M21mqhNK6UF4mx9Cp3snwtxmRr0bshvuMojukVO757tXtbP_a8Zzoh-WGvk7MpbZLF8AAIf0Mc4iRzuKKqTl5CkERte0r3Y4aif1nMUA49xaIaPOBtnx0G0grg5McHWepadRaCWkzx3Q2w8KqIDPim4iTjWRfi4zuqt12fBG76YxkCBI5BP4MlCI6EbKMiPpG2zQXhXr2fAHKS8PQjWDQXea6XtdjNCJhlIEvBqzySr5EfwOy7hbcX_JOPkuTYNBbHuxK7KhHdmqlWdwDjfvM7DRb47Rf8S9NbcyMES6_zi3lM4Yb_1b0b8QWFmbOhnxJQ0pFwGKM0yorDcNaV2V1Lz_cGpKfTcDaiSvTkbLgOXuJWoshc0QUsJcoD2Bx92Z8WyX2CoJMQ_izvbbSWLChFV12FedNpnj192JimT58aas4HhKHTI4fXwFS76sS1mrsxGi8syA8exuAIB6ZuF2rSm97RRQoaXxSOoTw7ydoVkegHRYq9YLr7BgokdXPwBLJoEXb5KI9vE__fghM5E7eJbJgr32moUV14Nxb4dr5Ug=s64",
      "userId": "04288734832196105327"
     },
     "user_tz": 240
    },
    "id": "SuFa2BZOvO6R"
   },
   "outputs": [],
   "source": [
    "#Carregando a base de dados\n",
    "from sklearn.datasets import load_breast_cancer\n",
    "cancer = load_breast_cancer()"
   ]
  },
  {
   "cell_type": "code",
   "execution_count": 15,
   "metadata": {
    "colab": {},
    "colab_type": "code",
    "id": "wWbOLR4kvO6U"
   },
   "outputs": [
    {
     "name": "stdout",
     "output_type": "stream",
     "text": [
      "(569, 30)\n"
     ]
    },
    {
     "data": {
      "text/plain": [
       "array([[1.799e+01, 1.038e+01, 1.228e+02, ..., 2.654e-01, 4.601e-01,\n",
       "        1.189e-01],\n",
       "       [2.057e+01, 1.777e+01, 1.329e+02, ..., 1.860e-01, 2.750e-01,\n",
       "        8.902e-02],\n",
       "       [1.969e+01, 2.125e+01, 1.300e+02, ..., 2.430e-01, 3.613e-01,\n",
       "        8.758e-02],\n",
       "       ...,\n",
       "       [1.660e+01, 2.808e+01, 1.083e+02, ..., 1.418e-01, 2.218e-01,\n",
       "        7.820e-02],\n",
       "       [2.060e+01, 2.933e+01, 1.401e+02, ..., 2.650e-01, 4.087e-01,\n",
       "        1.240e-01],\n",
       "       [7.760e+00, 2.454e+01, 4.792e+01, ..., 0.000e+00, 2.871e-01,\n",
       "        7.039e-02]])"
      ]
     },
     "execution_count": 15,
     "metadata": {},
     "output_type": "execute_result"
    }
   ],
   "source": [
    "#Verificando quantidade de instâncias e de atributos\n",
    "# Vamos também acessar os dados\n",
    "\n",
    "print(cancer.data.shape)\n",
    "cancer.data"
   ]
  },
  {
   "cell_type": "code",
   "execution_count": 16,
   "metadata": {
    "colab": {},
    "colab_type": "code",
    "id": "JzA-pRwkvO6W"
   },
   "outputs": [
    {
     "data": {
      "text/plain": [
       "array([0, 0, 0, 0, 0, 0, 0, 0, 0, 0, 0, 0, 0, 0, 0, 0, 0, 0, 0, 1, 1, 1,\n",
       "       0, 0, 0, 0, 0, 0, 0, 0, 0, 0, 0, 0, 0, 0, 0, 1, 0, 0, 0, 0, 0, 0,\n",
       "       0, 0, 1, 0, 1, 1, 1, 1, 1, 0, 0, 1, 0, 0, 1, 1, 1, 1, 0, 1, 0, 0,\n",
       "       1, 1, 1, 1, 0, 1, 0, 0, 1, 0, 1, 0, 0, 1, 1, 1, 0, 0, 1, 0, 0, 0,\n",
       "       1, 1, 1, 0, 1, 1, 0, 0, 1, 1, 1, 0, 0, 1, 1, 1, 1, 0, 1, 1, 0, 1,\n",
       "       1, 1, 1, 1, 1, 1, 1, 0, 0, 0, 1, 0, 0, 1, 1, 1, 0, 0, 1, 0, 1, 0,\n",
       "       0, 1, 0, 0, 1, 1, 0, 1, 1, 0, 1, 1, 1, 1, 0, 1, 1, 1, 1, 1, 1, 1,\n",
       "       1, 1, 0, 1, 1, 1, 1, 0, 0, 1, 0, 1, 1, 0, 0, 1, 1, 0, 0, 1, 1, 1,\n",
       "       1, 0, 1, 1, 0, 0, 0, 1, 0, 1, 0, 1, 1, 1, 0, 1, 1, 0, 0, 1, 0, 0,\n",
       "       0, 0, 1, 0, 0, 0, 1, 0, 1, 0, 1, 1, 0, 1, 0, 0, 0, 0, 1, 1, 0, 0,\n",
       "       1, 1, 1, 0, 1, 1, 1, 1, 1, 0, 0, 1, 1, 0, 1, 1, 0, 0, 1, 0, 1, 1,\n",
       "       1, 1, 0, 1, 1, 1, 1, 1, 0, 1, 0, 0, 0, 0, 0, 0, 0, 0, 0, 0, 0, 0,\n",
       "       0, 0, 1, 1, 1, 1, 1, 1, 0, 1, 0, 1, 1, 0, 1, 1, 0, 1, 0, 0, 1, 1,\n",
       "       1, 1, 1, 1, 1, 1, 1, 1, 1, 1, 1, 0, 1, 1, 0, 1, 0, 1, 1, 1, 1, 1,\n",
       "       1, 1, 1, 1, 1, 1, 1, 1, 1, 0, 1, 1, 1, 0, 1, 0, 1, 1, 1, 1, 0, 0,\n",
       "       0, 1, 1, 1, 1, 0, 1, 0, 1, 0, 1, 1, 1, 0, 1, 1, 1, 1, 1, 1, 1, 0,\n",
       "       0, 0, 1, 1, 1, 1, 1, 1, 1, 1, 1, 1, 1, 0, 0, 1, 0, 0, 0, 1, 0, 0,\n",
       "       1, 1, 1, 1, 1, 0, 1, 1, 1, 1, 1, 0, 1, 1, 1, 0, 1, 1, 0, 0, 1, 1,\n",
       "       1, 1, 1, 1, 0, 1, 1, 1, 1, 1, 1, 1, 0, 1, 1, 1, 1, 1, 0, 1, 1, 0,\n",
       "       1, 1, 1, 1, 1, 1, 1, 1, 1, 1, 1, 1, 0, 1, 0, 0, 1, 0, 1, 1, 1, 1,\n",
       "       1, 0, 1, 1, 0, 1, 0, 1, 1, 0, 1, 0, 1, 1, 1, 1, 1, 1, 1, 1, 0, 0,\n",
       "       1, 1, 1, 1, 1, 1, 0, 1, 1, 1, 1, 1, 1, 1, 1, 1, 1, 0, 1, 1, 1, 1,\n",
       "       1, 1, 1, 0, 1, 0, 1, 1, 0, 1, 1, 1, 1, 1, 0, 0, 1, 0, 1, 0, 1, 1,\n",
       "       1, 1, 1, 0, 1, 1, 0, 1, 0, 1, 0, 0, 1, 1, 1, 0, 1, 1, 1, 1, 1, 1,\n",
       "       1, 1, 1, 1, 1, 0, 1, 0, 0, 1, 1, 1, 1, 1, 1, 1, 1, 1, 1, 1, 1, 1,\n",
       "       1, 1, 1, 1, 1, 1, 1, 1, 1, 1, 1, 1, 0, 0, 0, 0, 0, 0, 1])"
      ]
     },
     "execution_count": 16,
     "metadata": {},
     "output_type": "execute_result"
    }
   ],
   "source": [
    "# E  as classes\n",
    "cancer.target"
   ]
  },
  {
   "cell_type": "markdown",
   "metadata": {
    "colab_type": "text",
    "id": "x-0xTdY2wuig"
   },
   "source": [
    "Como nós faremos ajustes dos parâmetros dos métodos de geração de conjuntos, nós vamos dividir a base em três partições: treino, validação e teste. A base de treino terá 60% das instâncias, enquanto as bases de teste e de validação terão 20% cada."
   ]
  },
  {
   "cell_type": "code",
   "execution_count": 17,
   "metadata": {
    "colab": {},
    "colab_type": "code",
    "id": "NBeQv4W2vO6a"
   },
   "outputs": [
    {
     "name": "stdout",
     "output_type": "stream",
     "text": [
      "(455, 30) (455,)\n",
      "(114, 30) (114,)\n"
     ]
    }
   ],
   "source": [
    "#Vamos, inicialmente, dividir a base em duas partições: treino e teste. A base de treino terá 80% das instâncias, enquanto a de teste terá 20%\n",
    "\n",
    "from sklearn.model_selection import train_test_split\n",
    "\n",
    "#Dividindo a base (com seleção de instâncias aleatória)\n",
    "X_train, X_test, y_train, y_test = train_test_split(cancer.data, cancer.target, test_size=0.2, random_state = 42)\n",
    "\n",
    "#Checando a divisão das instâncias entre as duas bases\n",
    "print(X_train.shape, y_train.shape)\n",
    "print(X_test.shape, y_test.shape)"
   ]
  },
  {
   "cell_type": "markdown",
   "metadata": {
    "colab_type": "text",
    "id": "FR-sOSkFvQgg"
   },
   "source": [
    "Agora vamos dividir a base de treino em duas bases: treino e validação. Ao final, a base de treino terá 60% das instâncias originais, enquanto a base de validação terá 20%, assim como a base de teste já criada."
   ]
  },
  {
   "cell_type": "code",
   "execution_count": 18,
   "metadata": {
    "colab": {},
    "colab_type": "code",
    "id": "GbEtPmC7vO6c"
   },
   "outputs": [
    {
     "name": "stdout",
     "output_type": "stream",
     "text": [
      "(341, 30) (341,)\n",
      "(114, 30) (114,)\n"
     ]
    }
   ],
   "source": [
    "#Dividindo a base de treino (com seleção de instâncias aleatória)\n",
    "X_train, X_val, y_train, y_val = train_test_split(X_train, y_train, test_size=0.25, random_state = 42)\n",
    "\n",
    "#Checando a divisão das instâncias entre as duas bases\n",
    "print(X_train.shape, y_train.shape)\n",
    "print(X_val.shape, y_val.shape)"
   ]
  },
  {
   "cell_type": "markdown",
   "metadata": {
    "colab_type": "text",
    "id": "4jrHJ2HXnEO6"
   },
   "source": [
    "Agora nós vamos comparar o desempenho dos métodos de **Conjuntos de Classificadores** novamente utilizando **Árvore de Decisão** como algoritmo de base. Antes de utilizarmos os métodos de conjuntos, vamos testar o desempenho de uma única árvore.\n",
    "É importante lembrar que, como haverá **ajuste de parâmetros**, a base de teste somente poderá ser usada ao final, após os parâmetros serem todos ajustados. Portanto, para o ajuste de parâmetros, nós utilizaremos a **base de validação**. Além disso, para facilitar a observação de ocorrência de **overfitting**, nós sempre compararemos a acurária no treino e na validação.\n"
   ]
  },
  {
   "cell_type": "code",
   "execution_count": 19,
   "metadata": {
    "colab": {},
    "colab_type": "code",
    "id": "3hInUoC5YE8p"
   },
   "outputs": [
    {
     "name": "stdout",
     "output_type": "stream",
     "text": [
      "Acurácia no treino 1.0\n",
      "Acurácia na validação 0.9298245614035088\n"
     ]
    }
   ],
   "source": [
    "# Cálculo da acurácia em validação de uma única árvore de decisão.\n",
    "\n",
    "# Árvore de Decisão\n",
    "DT_clf = DecisionTreeClassifier()\n",
    "DT_clf.fit(X_train, y_train)\n",
    "y_pred_DT = DT_clf.predict(X_val)\n",
    "train_pred_DT = DT_clf.predict(X_train)\n",
    "\n",
    "# Avaliação\n",
    "print(\"Acurácia no treino\", accuracy_score(y_train, train_pred_DT))\n",
    "print(\"Acurácia na validação\", accuracy_score(y_val, y_pred_DT))"
   ]
  },
  {
   "cell_type": "code",
   "execution_count": 55,
   "metadata": {
    "colab": {},
    "colab_type": "code",
    "id": "_cG4bjkGZ7Rr"
   },
   "outputs": [],
   "source": [
    "#Vamos fazer as predições com os métodos de geração de conjuntos\n",
    "\n",
    "# Bagging\n",
    "#BG_clf = BaggingClassifier(DecisionTreeClassifier(), n_estimators=40, random_state=0)\n",
    "#BG_clf.fit(X_train, y_train)\n",
    "#y_pred_BG = BG_clf.predict(X_val)\n",
    "#train_pred_BG = BG_clf.predict(X_train)\n",
    "\n",
    "k=200\n",
    "accuracyBG = []\n",
    "accuracyBG_test = []\n",
    "accuracyRange = range(k-1)\n",
    "\n",
    "for i in range (1, k):\n",
    "    BG_clf = BaggingClassifier(DecisionTreeClassifier(), n_estimators=i, random_state=0)\n",
    "    BG_clf.fit(X_train, y_train)\n",
    "    y_pred_BG = BG_clf.predict(X_val)\n",
    "    yPredBG_test = BG_clf.predict(X_test)\n",
    "    accuracyBG.append(accuracy_score(y_val, y_pred_BG))\n",
    "    accuracyBG_test.append(accuracy_score(y_test, yPredBG_test))"
   ]
  },
  {
   "cell_type": "code",
   "execution_count": 57,
   "metadata": {},
   "outputs": [
    {
     "data": {
      "image/png": "[encoded data removed]",
      "text/plain": [
       "<Figure size 432x288 with 1 Axes>"
      ]
     },
     "metadata": {
      "needs_background": "light"
     },
     "output_type": "display_data"
    },
    {
     "data": {
      "image/png": "[encoded data removed]",
      "text/plain": [
       "<Figure size 432x288 with 1 Axes>"
      ]
     },
     "metadata": {
      "needs_background": "light"
     },
     "output_type": "display_data"
    },
    {
     "name": "stdout",
     "output_type": "stream",
     "text": [
      "Conjunto de validação - Bagging - Acurácia 0.9473684210526315 n_estimators 36\n",
      "Conjunto de teste - Bagging - Acurácia 0.8596491228070176 n_estimators 1\n"
     ]
    }
   ],
   "source": [
    "#avaliação\n",
    "#plotando a acurácia em relação ao número de estimadores\n",
    "\n",
    "plt.title('Acurácia validação vs n_estimators')\n",
    "plt.plot(accuracyRange, accuracyBG)\n",
    "plt.show()\n",
    "\n",
    "plt.title('Acurácia teste vs n_estimators')\n",
    "plt.plot(accuracyRange, accuracyBG_test)\n",
    "plt.show()\n",
    "\n",
    "#achando a maior acurácia a partir do número de estimadores\n",
    "\n",
    "for i in range(0, k):\n",
    "    if (accuracyBG[i] == max(accuracyBG)):\n",
    "            print('Conjunto de validação - Bagging - Acurácia', accuracyBG[i], 'n_estimators', i)\n",
    "            break\n",
    "            \n",
    "for i in range(1, k):\n",
    "    if (accuracyBG_test[i] == max(accuracyBG)):\n",
    "            print('Conjunto de teste - Bagging - Acurácia', accuracyBG[i], 'n_estimators', i)\n",
    "            break\n"
   ]
  },
  {
   "cell_type": "code",
   "execution_count": 51,
   "metadata": {
    "colab": {},
    "colab_type": "code",
    "id": "KX_X75QyRmr7"
   },
   "outputs": [],
   "source": [
    "#Random Forest\n",
    "\n",
    "#randomForest = RandomForestClassifier(max_depth=6, random_state=0)\n",
    "#randomForest.fit(X_train, y_train)\n",
    "#train_pred_BG = randomForest.predict(X_train)\n",
    "#y_pred_BG = randomForest.predict(X_val)\n",
    "#yPredRF = randomForest.predict(X_test)\n",
    "\n",
    "k = 35\n",
    "accuracyRF_val = []\n",
    "accuracyRF_test = []\n",
    "accuracy_Xrange = range(k-1)\n",
    "\n",
    "for i in range (1, k):\n",
    "    randomForest = RandomForestClassifier(max_depth=i, random_state=0)\n",
    "    randomForest.fit(X_train, y_train)\n",
    "    y_pred_RF = randomForest.predict(X_val)\n",
    "    yPredRF_test = randomForest.predict(X_test)\n",
    "    \n",
    "    accuracyRF_test.append(accuracy_score(y_test, yPredRF_test))\n",
    "    accuracyRF_val.append(accuracy_score(y_val, y_pred_RF))"
   ]
  },
  {
   "cell_type": "code",
   "execution_count": 54,
   "metadata": {},
   "outputs": [
    {
     "data": {
      "image/png": "[encoded data removed]",
      "text/plain": [
       "<Figure size 432x288 with 1 Axes>"
      ]
     },
     "metadata": {
      "needs_background": "light"
     },
     "output_type": "display_data"
    },
    {
     "data": {
      "image/png": "[encoded data removed]",
      "text/plain": [
       "<Figure size 432x288 with 1 Axes>"
      ]
     },
     "metadata": {
      "needs_background": "light"
     },
     "output_type": "display_data"
    },
    {
     "name": "stdout",
     "output_type": "stream",
     "text": [
      "Conjunto de validação - RandomForest - Acurácia 0.956140350877193 max_depth 4\n",
      "Conjunto de teste - RandomForest - Acurácia 0.9649122807017544 max_depth 5\n"
     ]
    }
   ],
   "source": [
    "plt.title('Acurácia validação vs max_depth')\n",
    "plt.plot(accuracy_Xrange, accuracyRF_val)\n",
    "plt.show()\n",
    "\n",
    "\n",
    "plt.title('Acurácia teste vs max_depth')\n",
    "plt.plot(accuracy_Xrange, accuracyRF_test)\n",
    "plt.show()\n",
    "\n",
    "for i in range (0, k):\n",
    "    \n",
    "    if (accuracyRF_val[i] == max(accuracyRF_val)):\n",
    "        print('Conjunto de validação - RandomForest - Acurácia', accuracyRF_val[i], 'max_depth', i)\n",
    "        break\n",
    "        \n",
    "for i in range (0, k):\n",
    "    \n",
    "    if (accuracyRF_test[i] == max(accuracyRF_test)):\n",
    "        print('Conjunto de teste - RandomForest - Acurácia', accuracyRF_test[i], 'max_depth', i)\n",
    "        break"
   ]
  },
  {
   "cell_type": "code",
   "execution_count": 45,
   "metadata": {
    "colab": {},
    "colab_type": "code",
    "id": "hst7A0K8RmsG"
   },
   "outputs": [],
   "source": [
    "#AdaBoost\n",
    "\n",
    "adaBoost = AdaBoostClassifier(n_estimators=100, random_state=0)\n",
    "\n",
    "adaBoost.fit(X_train, y_train)\n",
    "\n",
    "train_pred_AB = adaBoost.predict(X_train)\n",
    "y_pred_AB = adaBoost.predict(X_val)\n",
    "yPredAB = adaBoost.predict(X_test)\n",
    "\n",
    "k = 400\n",
    "accuracyAB_val = []\n",
    "accuracyAB_test = []\n",
    "accuracy_Xrange = range(k-1)\n",
    "\n",
    "\n",
    "for i in range (1, k):\n",
    "    adaBoost = AdaBoostClassifier(n_estimators=i, random_state=0)\n",
    "    adaBoost.fit(X_train, y_train)\n",
    "    \n",
    "    train_pred_AB = adaBoost.predict(X_train)\n",
    "    y_pred_AB = adaBoost.predict(X_val)\n",
    "    yPredAB = adaBoost.predict(X_test)\n",
    "    \n",
    "    accuracyAB_test.append(accuracy_score(y_test, yPredAB))\n",
    "    accuracyAB_val.append(accuracy_score(y_val, y_pred_AB))"
   ]
  },
  {
   "cell_type": "code",
   "execution_count": 50,
   "metadata": {},
   "outputs": [
    {
     "data": {
      "image/png": "[encoded data removed]",
      "text/plain": [
       "<Figure size 432x288 with 1 Axes>"
      ]
     },
     "metadata": {
      "needs_background": "light"
     },
     "output_type": "display_data"
    },
    {
     "data": {
      "image/png": "[encoded data removed]",
      "text/plain": [
       "<Figure size 432x288 with 1 Axes>"
      ]
     },
     "metadata": {
      "needs_background": "light"
     },
     "output_type": "display_data"
    },
    {
     "name": "stdout",
     "output_type": "stream",
     "text": [
      "Conjunto de validação - AdaBoost - Acurácia 0.9649122807017544 n_estimators 245\n",
      "Conjunto de teste - AdaBoost - Acurácia: 0.9736842105263158 n_estimators: 64\n"
     ]
    }
   ],
   "source": [
    "\n",
    "plt.title('Acurácia validação vs n_estimators')\n",
    "plt.plot(accuracy_Xrange, accuracyAB_val)\n",
    "plt.show()\n",
    "\n",
    "plt.title('Acurácia teste vs n_estimators')\n",
    "plt.plot(accuracy_Xrange, accuracyAB_test)\n",
    "plt.show()\n",
    "\n",
    "for i in range (0, k):\n",
    "    \n",
    "    if (accuracyAB_val[i] == max(accuracyAB_val)):\n",
    "        print('Conjunto de validação - AdaBoost - Acurácia', accuracyAB_test[i], 'n_estimators', i)\n",
    "        break\n",
    "            \n",
    "for i in range (0, k):\n",
    "    if (accuracyAB_test[i] == max(accuracyAB_test)):\n",
    "        print('Conjunto de teste - AdaBoost - Acurácia:', accuracyAB_val[i], 'n_estimators:', i)\n",
    "        break\n"
   ]
  },
  {
   "cell_type": "code",
   "execution_count": 40,
   "metadata": {
    "colab": {},
    "colab_type": "code",
    "id": "I7pVMeL1RmsP"
   },
   "outputs": [],
   "source": [
    "#GradientBoost\n",
    "\n",
    "#gradientBoost = GradientBoostingClassifier(n_estimators=20, random_state=0)\n",
    "\n",
    "#gradientBoost.fit(X_train, y_train)\n",
    "\n",
    "\n",
    "#train_pred_GB = gradientBoost.predict(X_train)\n",
    "#y_pred_GB = gradientBoost.predict(X_val)\n",
    "#yPredGB = gradientBoost.predict(X_test)\n",
    "\n",
    "k = 400\n",
    "accuracyGB_val = []\n",
    "accuracyGB_test = []\n",
    "accuracy_Xrange = range(k-1)\n",
    "\n",
    "for i in range(1, k):\n",
    "    gradientBoost = GradientBoostingClassifier(n_estimators=i, random_state=0)\n",
    "    gradientBoost.fit(X_train, y_train)\n",
    "    \n",
    "    train_pred_GB = gradientBoost.predict(X_train)\n",
    "    y_pred_GB = gradientBoost.predict(X_val) #validação\n",
    "    yPredGB = gradientBoost.predict(X_test) #teste\n",
    "\n",
    "    accuracyGB_test.append(accuracy_score(y_test, yPredGB))\n",
    "    accuracyGB_val.append(accuracy_score(y_val, y_pred_GB))"
   ]
  },
  {
   "cell_type": "code",
   "execution_count": 44,
   "metadata": {},
   "outputs": [
    {
     "data": {
      "image/png": "[encoded data removed]",
      "text/plain": [
       "<Figure size 432x288 with 1 Axes>"
      ]
     },
     "metadata": {
      "needs_background": "light"
     },
     "output_type": "display_data"
    },
    {
     "data": {
      "image/png": "[encoded data removed]",
      "text/plain": [
       "<Figure size 432x288 with 1 Axes>"
      ]
     },
     "metadata": {
      "needs_background": "light"
     },
     "output_type": "display_data"
    },
    {
     "name": "stdout",
     "output_type": "stream",
     "text": [
      "Validação - GradientBoost - Acurácia: 0.956140350877193 n_estimators: 9\n",
      "Teste - GradientBoost - Acurácia: 0.9473684210526315 n_estimators: 4\n"
     ]
    }
   ],
   "source": [
    "plt.title('acurácia validação vs n_estimators')\n",
    "plt.plot(accuracy_Xrange, accuracyGB_val)\n",
    "plt.show()\n",
    "\n",
    "plt.title('acurácia teste vs n_estimators')\n",
    "plt.plot(accuracy_Xrange, accuracyGB_test)\n",
    "plt.show()\n",
    "\n",
    "for i in range (0, k):\n",
    "    if (accuracyAB_val[i] == max(accuracyAB_val)):\n",
    "        print('Validação - GradientBoost - Acurácia:', accuracyAB_val[i], 'n_estimators:', i)\n",
    "        break\n",
    "    \n",
    "for i in range (0, k):\n",
    "    if (accuracyGB_test[i] == max(accuracyGB_test)):\n",
    "        print('Teste - GradientBoost - Acurácia:', accuracyAB_val[i], 'n_estimators:', i)\n",
    "        break\n",
    "\n",
    "    \n",
    "#print(\"Acurácia no treino\", accuracy_score(y_train, train_pred_GB))\n",
    "#print(\"Acurácia na validação\", accuracy_score(y_val, y_pred_GB))\n",
    "#print(\"Acurácia no teste\", accuracy_score(y_test, yPredGB))"
   ]
  },
  {
   "cell_type": "markdown",
   "metadata": {
    "colab_type": "text",
    "id": "4sSUBR9iWp7U"
   },
   "source": [
    "**Atividade**\n",
    "\n",
    "1. Primeiramente, você deverá estudar com detalhes os parâmetros de cada método de geração de conjunto.\n",
    "ok\n",
    "2. Utilize a base de validação para ajustar os parâmetros de cada método geração de conjunto a fim de definir a melhor combinação de parâmetros de cada método.\n",
    "3. Utilize a base de teste para comparar os resultados obtidos pela melhor versão de cada método de geração de conjuntos (definida na base de validação). Qual dos algoritmos de Aprendizagem de Máquina para geração de conjuntos de preditores testados apresentou melhor resultado? Apesente os resultados de comparação.\n"
   ]
  },
  {
   "cell_type": "code",
   "execution_count": null,
   "metadata": {},
   "outputs": [],
   "source": []
  },
  {
   "cell_type": "code",
   "execution_count": null,
   "metadata": {},
   "outputs": [],
   "source": []
  }
 ],
 "metadata": {
  "colab": {
   "authorship_tag": "ABX9TyOu0lwo87K8zXlCe/KNV2TS",
   "collapsed_sections": [],
   "name": "Aula_Prática_Conjuntos_Não_Compartilhada_21_07_20.ipynb",
   "provenance": [
    {
     "file_id": "1UDrrPHsN5S7UCdoAPrzNM1G23_nvH-jN",
     "timestamp": 1595538514082
    }
   ]
  },
  "kernelspec": {
   "display_name": "Python 3",
   "language": "python",
   "name": "python3"
  },
  "language_info": {
   "codemirror_mode": {
    "name": "ipython",
    "version": 3
   },
   "file_extension": ".py",
   "mimetype": "text/x-python",
   "name": "python",
   "nbconvert_exporter": "python",
   "pygments_lexer": "ipython3",
   "version": "3.7.7"
  }
 },
 "nbformat": 4,
 "nbformat_minor": 1
}
