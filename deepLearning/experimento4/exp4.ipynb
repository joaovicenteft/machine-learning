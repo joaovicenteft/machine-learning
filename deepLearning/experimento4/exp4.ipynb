{
 "cells": [
  {
   "cell_type": "markdown",
   "metadata": {
    "colab_type": "text",
    "id": "07w4fwUW7yRE"
   },
   "source": [
    "## Classifying movie reviews: a binary classification example\n",
    "\n",
    "Neste exemplo, aprenderemos a classificar as críticas de filmes em críticas \"positivas\" e críticas \"negativas\", apenas com base no conteúdo do texto das críticas.\n",
    "\n",
    "**The IMDB dataset**\n",
    "\n",
    "Datset com 50.000 comentários polarizadas de filmes da Internet. Eles são divididos em 25000 e 25000, cada conjunto consistindo em 50% de comentários negativos e 50% positivos.\n",
    "\n",
    "O IMDB vem empacotado com Keras e já foi pré-processado: as resenhas (sequências de palavras) foram transformadas em sequências de inteiros, onde cada inteiro representa uma palavra específica em um dicionário.\n"
   ]
  },
  {
   "cell_type": "code",
   "execution_count": 1,
   "metadata": {
    "colab": {
     "base_uri": "https://localhost:8080/",
     "height": 1000
    },
    "colab_type": "code",
    "id": "zlDDgU7B7d3Q",
    "outputId": "10913771-276c-45f5-98c2-46f148b43cae"
   },
   "outputs": [
    {
     "data": {
      "text/plain": [
       "[1,\n",
       " 14,\n",
       " 22,\n",
       " 16,\n",
       " 43,\n",
       " 530,\n",
       " 973,\n",
       " 1622,\n",
       " 1385,\n",
       " 65,\n",
       " 458,\n",
       " 4468,\n",
       " 66,\n",
       " 3941,\n",
       " 4,\n",
       " 173,\n",
       " 36,\n",
       " 256,\n",
       " 5,\n",
       " 25,\n",
       " 100,\n",
       " 43,\n",
       " 838,\n",
       " 112,\n",
       " 50,\n",
       " 670,\n",
       " 2,\n",
       " 9,\n",
       " 35,\n",
       " 480,\n",
       " 284,\n",
       " 5,\n",
       " 150,\n",
       " 4,\n",
       " 172,\n",
       " 112,\n",
       " 167,\n",
       " 2,\n",
       " 336,\n",
       " 385,\n",
       " 39,\n",
       " 4,\n",
       " 172,\n",
       " 4536,\n",
       " 1111,\n",
       " 17,\n",
       " 546,\n",
       " 38,\n",
       " 13,\n",
       " 447,\n",
       " 4,\n",
       " 192,\n",
       " 50,\n",
       " 16,\n",
       " 6,\n",
       " 147,\n",
       " 2025,\n",
       " 19,\n",
       " 14,\n",
       " 22,\n",
       " 4,\n",
       " 1920,\n",
       " 4613,\n",
       " 469,\n",
       " 4,\n",
       " 22,\n",
       " 71,\n",
       " 87,\n",
       " 12,\n",
       " 16,\n",
       " 43,\n",
       " 530,\n",
       " 38,\n",
       " 76,\n",
       " 15,\n",
       " 13,\n",
       " 1247,\n",
       " 4,\n",
       " 22,\n",
       " 17,\n",
       " 515,\n",
       " 17,\n",
       " 12,\n",
       " 16,\n",
       " 626,\n",
       " 18,\n",
       " 2,\n",
       " 5,\n",
       " 62,\n",
       " 386,\n",
       " 12,\n",
       " 8,\n",
       " 316,\n",
       " 8,\n",
       " 106,\n",
       " 5,\n",
       " 4,\n",
       " 2223,\n",
       " 5244,\n",
       " 16,\n",
       " 480,\n",
       " 66,\n",
       " 3785,\n",
       " 33,\n",
       " 4,\n",
       " 130,\n",
       " 12,\n",
       " 16,\n",
       " 38,\n",
       " 619,\n",
       " 5,\n",
       " 25,\n",
       " 124,\n",
       " 51,\n",
       " 36,\n",
       " 135,\n",
       " 48,\n",
       " 25,\n",
       " 1415,\n",
       " 33,\n",
       " 6,\n",
       " 22,\n",
       " 12,\n",
       " 215,\n",
       " 28,\n",
       " 77,\n",
       " 52,\n",
       " 5,\n",
       " 14,\n",
       " 407,\n",
       " 16,\n",
       " 82,\n",
       " 2,\n",
       " 8,\n",
       " 4,\n",
       " 107,\n",
       " 117,\n",
       " 5952,\n",
       " 15,\n",
       " 256,\n",
       " 4,\n",
       " 2,\n",
       " 7,\n",
       " 3766,\n",
       " 5,\n",
       " 723,\n",
       " 36,\n",
       " 71,\n",
       " 43,\n",
       " 530,\n",
       " 476,\n",
       " 26,\n",
       " 400,\n",
       " 317,\n",
       " 46,\n",
       " 7,\n",
       " 4,\n",
       " 2,\n",
       " 1029,\n",
       " 13,\n",
       " 104,\n",
       " 88,\n",
       " 4,\n",
       " 381,\n",
       " 15,\n",
       " 297,\n",
       " 98,\n",
       " 32,\n",
       " 2071,\n",
       " 56,\n",
       " 26,\n",
       " 141,\n",
       " 6,\n",
       " 194,\n",
       " 7486,\n",
       " 18,\n",
       " 4,\n",
       " 226,\n",
       " 22,\n",
       " 21,\n",
       " 134,\n",
       " 476,\n",
       " 26,\n",
       " 480,\n",
       " 5,\n",
       " 144,\n",
       " 30,\n",
       " 5535,\n",
       " 18,\n",
       " 51,\n",
       " 36,\n",
       " 28,\n",
       " 224,\n",
       " 92,\n",
       " 25,\n",
       " 104,\n",
       " 4,\n",
       " 226,\n",
       " 65,\n",
       " 16,\n",
       " 38,\n",
       " 1334,\n",
       " 88,\n",
       " 12,\n",
       " 16,\n",
       " 283,\n",
       " 5,\n",
       " 16,\n",
       " 4472,\n",
       " 113,\n",
       " 103,\n",
       " 32,\n",
       " 15,\n",
       " 16,\n",
       " 5345,\n",
       " 19,\n",
       " 178,\n",
       " 32]"
      ]
     },
     "execution_count": 1,
     "metadata": {},
     "output_type": "execute_result"
    }
   ],
   "source": [
    "\"\"\" O argumento num_words = 10000 significa que manteremos apenas as 10.000 \n",
    "    palavras mais frequentes nos dados de treinamento. \n",
    "    \n",
    "    Palavras raras serão descartadas. \n",
    "    \n",
    "    Isso nos permite trabalhar com dados vetoriais de tamanho gerenciável.\n",
    "\"\"\"\n",
    "\n",
    "import numpy as np\n",
    "from keras.datasets import imdb\n",
    "\n",
    "(train_data, train_labels), (test_data, test_labels) = imdb.load_data(num_words=10000,\n",
    "                                                                      start_char=1,\n",
    "                                                                      oov_char=2,\n",
    "                                                                      index_from=3)\n",
    "\n",
    "\"\"\" As variáveis train_data e test_data são listas de revisões, \n",
    "    cada revisão sendo uma lista de índices de palavras \n",
    "    (codificando uma sequência de palavras). \n",
    "    \n",
    "    train_labels e test_labels são listas de 0s e 1s, em que \n",
    "    0 significa negativo e 1 significa positivo\n",
    "\"\"\"\n",
    "\n",
    "train_data[0]"
   ]
  },
  {
   "cell_type": "code",
   "execution_count": 3,
   "metadata": {
    "colab": {
     "base_uri": "https://localhost:8080/",
     "height": 173
    },
    "colab_type": "code",
    "id": "QST4t4nLwykn",
    "outputId": "f394196a-9a0e-4630-a283-a81effb5c9d1"
   },
   "outputs": [
    {
     "data": {
      "text/plain": [
       "array([list([1, 14, 22, 16, 43, 530, 973, 1622, 1385, 65, 458, 4468, 66, 3941, 4, 173, 36, 256, 5, 25, 100, 43, 838, 112, 50, 670, 2, 9, 35, 480, 284, 5, 150, 4, 172, 112, 167, 2, 336, 385, 39, 4, 172, 4536, 1111, 17, 546, 38, 13, 447, 4, 192, 50, 16, 6, 147, 2025, 19, 14, 22, 4, 1920, 4613, 469, 4, 22, 71, 87, 12, 16, 43, 530, 38, 76, 15, 13, 1247, 4, 22, 17, 515, 17, 12, 16, 626, 18, 2, 5, 62, 386, 12, 8, 316, 8, 106, 5, 4, 2223, 5244, 16, 480, 66, 3785, 33, 4, 130, 12, 16, 38, 619, 5, 25, 124, 51, 36, 135, 48, 25, 1415, 33, 6, 22, 12, 215, 28, 77, 52, 5, 14, 407, 16, 82, 2, 8, 4, 107, 117, 5952, 15, 256, 4, 2, 7, 3766, 5, 723, 36, 71, 43, 530, 476, 26, 400, 317, 46, 7, 4, 2, 1029, 13, 104, 88, 4, 381, 15, 297, 98, 32, 2071, 56, 26, 141, 6, 194, 7486, 18, 4, 226, 22, 21, 134, 476, 26, 480, 5, 144, 30, 5535, 18, 51, 36, 28, 224, 92, 25, 104, 4, 226, 65, 16, 38, 1334, 88, 12, 16, 283, 5, 16, 4472, 113, 103, 32, 15, 16, 5345, 19, 178, 32]),\n",
       "       list([1, 194, 1153, 194, 8255, 78, 228, 5, 6, 1463, 4369, 5012, 134, 26, 4, 715, 8, 118, 1634, 14, 394, 20, 13, 119, 954, 189, 102, 5, 207, 110, 3103, 21, 14, 69, 188, 8, 30, 23, 7, 4, 249, 126, 93, 4, 114, 9, 2300, 1523, 5, 647, 4, 116, 9, 35, 8163, 4, 229, 9, 340, 1322, 4, 118, 9, 4, 130, 4901, 19, 4, 1002, 5, 89, 29, 952, 46, 37, 4, 455, 9, 45, 43, 38, 1543, 1905, 398, 4, 1649, 26, 6853, 5, 163, 11, 3215, 2, 4, 1153, 9, 194, 775, 7, 8255, 2, 349, 2637, 148, 605, 2, 8003, 15, 123, 125, 68, 2, 6853, 15, 349, 165, 4362, 98, 5, 4, 228, 9, 43, 2, 1157, 15, 299, 120, 5, 120, 174, 11, 220, 175, 136, 50, 9, 4373, 228, 8255, 5, 2, 656, 245, 2350, 5, 4, 9837, 131, 152, 491, 18, 2, 32, 7464, 1212, 14, 9, 6, 371, 78, 22, 625, 64, 1382, 9, 8, 168, 145, 23, 4, 1690, 15, 16, 4, 1355, 5, 28, 6, 52, 154, 462, 33, 89, 78, 285, 16, 145, 95]),\n",
       "       list([1, 14, 47, 8, 30, 31, 7, 4, 249, 108, 7, 4, 5974, 54, 61, 369, 13, 71, 149, 14, 22, 112, 4, 2401, 311, 12, 16, 3711, 33, 75, 43, 1829, 296, 4, 86, 320, 35, 534, 19, 263, 4821, 1301, 4, 1873, 33, 89, 78, 12, 66, 16, 4, 360, 7, 4, 58, 316, 334, 11, 4, 1716, 43, 645, 662, 8, 257, 85, 1200, 42, 1228, 2578, 83, 68, 3912, 15, 36, 165, 1539, 278, 36, 69, 2, 780, 8, 106, 14, 6905, 1338, 18, 6, 22, 12, 215, 28, 610, 40, 6, 87, 326, 23, 2300, 21, 23, 22, 12, 272, 40, 57, 31, 11, 4, 22, 47, 6, 2307, 51, 9, 170, 23, 595, 116, 595, 1352, 13, 191, 79, 638, 89, 2, 14, 9, 8, 106, 607, 624, 35, 534, 6, 227, 7, 129, 113]),\n",
       "       ...,\n",
       "       list([1, 11, 6, 230, 245, 6401, 9, 6, 1225, 446, 2, 45, 2174, 84, 8322, 4007, 21, 4, 912, 84, 2, 325, 725, 134, 2, 1715, 84, 5, 36, 28, 57, 1099, 21, 8, 140, 8, 703, 5, 2, 84, 56, 18, 1644, 14, 9, 31, 7, 4, 9406, 1209, 2295, 2, 1008, 18, 6, 20, 207, 110, 563, 12, 8, 2901, 2, 8, 97, 6, 20, 53, 4767, 74, 4, 460, 364, 1273, 29, 270, 11, 960, 108, 45, 40, 29, 2961, 395, 11, 6, 4065, 500, 7, 2, 89, 364, 70, 29, 140, 4, 64, 4780, 11, 4, 2678, 26, 178, 4, 529, 443, 2, 5, 27, 710, 117, 2, 8123, 165, 47, 84, 37, 131, 818, 14, 595, 10, 10, 61, 1242, 1209, 10, 10, 288, 2260, 1702, 34, 2901, 2, 4, 65, 496, 4, 231, 7, 790, 5, 6, 320, 234, 2766, 234, 1119, 1574, 7, 496, 4, 139, 929, 2901, 2, 7750, 5, 4241, 18, 4, 8497, 2, 250, 11, 1818, 7561, 4, 4217, 5408, 747, 1115, 372, 1890, 1006, 541, 9303, 7, 4, 59, 2, 4, 3586, 2]),\n",
       "       list([1, 1446, 7079, 69, 72, 3305, 13, 610, 930, 8, 12, 582, 23, 5, 16, 484, 685, 54, 349, 11, 4120, 2959, 45, 58, 1466, 13, 197, 12, 16, 43, 23, 2, 5, 62, 30, 145, 402, 11, 4131, 51, 575, 32, 61, 369, 71, 66, 770, 12, 1054, 75, 100, 2198, 8, 4, 105, 37, 69, 147, 712, 75, 3543, 44, 257, 390, 5, 69, 263, 514, 105, 50, 286, 1814, 23, 4, 123, 13, 161, 40, 5, 421, 4, 116, 16, 897, 13, 2, 40, 319, 5872, 112, 6700, 11, 4803, 121, 25, 70, 3468, 4, 719, 3798, 13, 18, 31, 62, 40, 8, 7200, 4, 2, 7, 14, 123, 5, 942, 25, 8, 721, 12, 145, 5, 202, 12, 160, 580, 202, 12, 6, 52, 58, 2, 92, 401, 728, 12, 39, 14, 251, 8, 15, 251, 5, 2, 12, 38, 84, 80, 124, 12, 9, 23]),\n",
       "       list([1, 17, 6, 194, 337, 7, 4, 204, 22, 45, 254, 8, 106, 14, 123, 4, 2, 270, 2, 5, 2, 2, 732, 2098, 101, 405, 39, 14, 1034, 4, 1310, 9, 115, 50, 305, 12, 47, 4, 168, 5, 235, 7, 38, 111, 699, 102, 7, 4, 4039, 9245, 9, 24, 6, 78, 1099, 17, 2345, 2, 21, 27, 9685, 6139, 5, 2, 1603, 92, 1183, 4, 1310, 7, 4, 204, 42, 97, 90, 35, 221, 109, 29, 127, 27, 118, 8, 97, 12, 157, 21, 6789, 2, 9, 6, 66, 78, 1099, 4, 631, 1191, 5, 2642, 272, 191, 1070, 6, 7585, 8, 2197, 2, 2, 544, 5, 383, 1271, 848, 1468, 2, 497, 2, 8, 1597, 8778, 2, 21, 60, 27, 239, 9, 43, 8368, 209, 405, 10, 10, 12, 764, 40, 4, 248, 20, 12, 16, 5, 174, 1791, 72, 7, 51, 6, 1739, 22, 4, 204, 131, 9])],\n",
       "      dtype=object)"
      ]
     },
     "execution_count": 3,
     "metadata": {},
     "output_type": "execute_result"
    }
   ],
   "source": [
    "train_data"
   ]
  },
  {
   "cell_type": "code",
   "execution_count": 4,
   "metadata": {
    "colab": {
     "base_uri": "https://localhost:8080/",
     "height": 34
    },
    "colab_type": "code",
    "id": "cdIhqHpJ__pP",
    "outputId": "1b95ea62-b347-417b-f7d3-5ec77cec07f7"
   },
   "outputs": [
    {
     "data": {
      "text/plain": [
       "1"
      ]
     },
     "execution_count": 4,
     "metadata": {},
     "output_type": "execute_result"
    }
   ],
   "source": [
    "train_labels[0]"
   ]
  },
  {
   "cell_type": "code",
   "execution_count": 5,
   "metadata": {
    "colab": {
     "base_uri": "https://localhost:8080/",
     "height": 34
    },
    "colab_type": "code",
    "id": "KZSQZIWeBNL7",
    "outputId": "d4283542-eb9b-43db-c2ff-613e52c2581e"
   },
   "outputs": [
    {
     "data": {
      "text/plain": [
       "9999"
      ]
     },
     "execution_count": 5,
     "metadata": {},
     "output_type": "execute_result"
    }
   ],
   "source": [
    "# Como nos restringimos às 10.000 palavras mais frequentes, \n",
    "# nenhum índice de palavras excederá 10.000\n",
    "max([max(sequence) for sequence in train_data])"
   ]
  },
  {
   "cell_type": "markdown",
   "metadata": {
    "colab_type": "text",
    "id": "ItjxWR-wAPJm"
   },
   "source": [
    "Podemos decodificar rapidamente um desses comentários para palavras em inglês"
   ]
  },
  {
   "cell_type": "code",
   "execution_count": null,
   "metadata": {
    "colab": {
     "base_uri": "https://localhost:8080/",
     "height": 54
    },
    "colab_type": "code",
    "id": "yp6sxAAEAF-F",
    "outputId": "7b89d53e-5c81-4bcc-a244-0aa2b170fe78"
   },
   "outputs": [
    {
     "name": "stdout",
     "output_type": "stream",
     "text": [
      "? this film was just brilliant casting location scenery story direction everyone's really suited the part they played and you could just imagine being there robert ? is an amazing actor and now the same being director ? father came from the same scottish island as myself so i loved the fact there was a real connection with this film the witty remarks throughout the film were great it was just brilliant so much that i bought the film as soon as it was released for ? and would recommend it to everyone to watch and the fly fishing was amazing really cried at the end it was so sad and you know what they say if you cry at a film it must have been good and this definitely was also ? to the two little boy's that played the ? of norman and paul they were just brilliant children are often left out of the ? list i think because the stars that play them all grown up are such a big profile for the whole film but these children are amazing and should be praised for what they have done don't you think the whole story was so lovely because it was true and was someone's life after all that was shared with us all\n"
     ]
    }
   ],
   "source": [
    "# word_index é um dicionário que mapeia palavras para um índice inteiro\n",
    "word_index = imdb.get_word_index()\n",
    "\n",
    "# # Podemos inverté-lo, mapeando índices inteiros para palavras\n",
    "reverse_word_index = dict([(value, key) for (key, value) in word_index.items()])\n",
    "\n",
    "# # Decodificamos a revisão; observe que nossos índices foram deslocados por 3\n",
    "# # porque 0, 1 e 2 são índices reservados para \"padding\", \"start of sequence\" \n",
    "# # e \"unknown\". O índice 3 nunca éé utilizado.\n",
    "decoded_review = ' '.join([reverse_word_index.get(i-3, '?') for i in train_data[0]])\n",
    "print(decoded_review)"
   ]
  },
  {
   "cell_type": "code",
   "execution_count": null,
   "metadata": {
    "colab": {
     "base_uri": "https://localhost:8080/",
     "height": 34
    },
    "colab_type": "code",
    "id": "5wyMz-Dd2tL7",
    "outputId": "57a8533f-72e0-4afb-9c7d-3f31fee605be"
   },
   "outputs": [
    {
     "name": "stdout",
     "output_type": "stream",
     "text": [
      "218\n"
     ]
    }
   ],
   "source": [
    "print(len(decoded_review.split(' ') ))"
   ]
  },
  {
   "cell_type": "markdown",
   "metadata": {
    "colab_type": "text",
    "id": "SndfyqohCYrB"
   },
   "source": [
    "## Preparando os dados\n",
    "\n",
    "Vamos codificar nossas listas em vetores de 0s e 1s. Concretamente, isso significaria, por exemplo, transformar a sequência [3, 5] em um vetor de 10.000 dimensões que seriam todos zeros exceto para os índices 3 e 5, que seriam uns. \n",
    "\n",
    "Então poderíamos usar como primeira camada em nossa rede uma camada Densa, capaz de lidar com dados vetoriais de ponto flutuante.\n",
    "\n",
    "![image.png](data:image/png;base64,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)"
   ]
  },
  {
   "cell_type": "code",
   "execution_count": null,
   "metadata": {
    "colab": {},
    "colab_type": "code",
    "id": "3-7dkx8rAUV5"
   },
   "outputs": [],
   "source": [
    "def vectorize_sequences(sequences, dimension=10000):\n",
    "    # Create an all-zero matrix\n",
    "    \n",
    "    results = np.zeros((len(sequences), dimension))\n",
    "    for i, sequence in enumerate(sequences):\n",
    "        # print(sequence)\n",
    "        results[i, sequence] = 1.\n",
    "    return results\n",
    "\n",
    "x_train = vectorize_sequences(train_data)\n",
    "x_test = vectorize_sequences(test_data)\n"
   ]
  },
  {
   "cell_type": "code",
   "execution_count": null,
   "metadata": {
    "colab": {
     "base_uri": "https://localhost:8080/",
     "height": 34
    },
    "colab_type": "code",
    "id": "weJzVMolDciu",
    "outputId": "4aaf0616-0179-4103-f5a8-63b662074b83"
   },
   "outputs": [
    {
     "data": {
      "text/plain": [
       "(25000, 10000)"
      ]
     },
     "execution_count": 8,
     "metadata": {
      "tags": []
     },
     "output_type": "execute_result"
    }
   ],
   "source": [
    "x_train.shape"
   ]
  },
  {
   "cell_type": "code",
   "execution_count": null,
   "metadata": {
    "colab": {},
    "colab_type": "code",
    "id": "XYIvOc1ZDnHa"
   },
   "outputs": [],
   "source": [
    "# vamos vetorizar os rótulos\n",
    "y_train = np.asarray(train_labels).astype('float32')\n",
    "y_test = np.asarray(test_labels).astype('float32')"
   ]
  },
  {
   "cell_type": "code",
   "execution_count": null,
   "metadata": {
    "colab": {
     "base_uri": "https://localhost:8080/",
     "height": 34
    },
    "colab_type": "code",
    "id": "SaCvlG43Drrw",
    "outputId": "db96bbee-9af1-4fb4-ddf4-170ac44b3516"
   },
   "outputs": [
    {
     "data": {
      "text/plain": [
       "array([1., 0., 0., ..., 0., 1., 0.], dtype=float32)"
      ]
     },
     "execution_count": 10,
     "metadata": {
      "tags": []
     },
     "output_type": "execute_result"
    }
   ],
   "source": [
    "y_train"
   ]
  },
  {
   "cell_type": "markdown",
   "metadata": {
    "colab_type": "text",
    "id": "Aufjeq0BD1nm"
   },
   "source": [
    "## Construindo nossa rede\n",
    "\n",
    "Nossos dados de entrada são simplesmente vetores, e nossos rótulos são escalares (1s e 0s). Um tipo de rede apropriada seria uma pilha de camadas densas com ativações relu, por exemplo: Densa(16, ativação = 'relu')\n",
    "\n",
    "Cada camada Densa com uma ativação relu implementa a seguinte cadeia de operações tensoriais:\n",
    "\n",
    "output = relu(dot(W, input) + b)\n",
    "\n",
    "Ter 16 unidades ocultas significa que a matriz de peso W terá forma (dimensão_entrada, 16), ou seja, o produto escalar com W projetará os dados de entrada em um espaço de representação de 16 dimensões\n",
    "\n",
    "Ter mais unidades ocultas (um espaço de representação de dimensão superior) permite que sua rede aprenda representações mais complexas, mas torna sua rede mais cara computacionalmente e pode levar ao overfitting.\n",
    "\n",
    "1. Quantas camadas usar?\n",
    "2. Quantas \"unidades ocultas\" escolher para cada camada?\n",
    "\n",
    "Esta é a aparência de nossa rede:\n",
    "\n",
    "![image.png](data:image/png;base64,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)"
   ]
  },
  {
   "cell_type": "code",
   "execution_count": null,
   "metadata": {
    "colab": {
     "base_uri": "https://localhost:8080/",
     "height": 289
    },
    "colab_type": "code",
    "id": "x5YtpSdLD0Te",
    "outputId": "6e5a983d-a7f4-4ca5-e45f-074ca1cf46bf"
   },
   "outputs": [
    {
     "name": "stdout",
     "output_type": "stream",
     "text": [
      "Model: \"functional_1\"\n",
      "_________________________________________________________________\n",
      "Layer (type)                 Output Shape              Param #   \n",
      "=================================================================\n",
      "input_1 (InputLayer)         [(None, 10000)]           0         \n",
      "_________________________________________________________________\n",
      "dense (Dense)                (None, 16)                160016    \n",
      "_________________________________________________________________\n",
      "dense_1 (Dense)              (None, 16)                272       \n",
      "_________________________________________________________________\n",
      "dense_2 (Dense)              (None, 1)                 17        \n",
      "=================================================================\n",
      "Total params: 160,305\n",
      "Trainable params: 160,305\n",
      "Non-trainable params: 0\n",
      "_________________________________________________________________\n"
     ]
    }
   ],
   "source": [
    "from keras.models import Model\n",
    "from keras import losses\n",
    "from keras import metrics\n",
    "from keras.layers import Input, Dense\n",
    "\n",
    "visible = Input(shape=(10000,))\n",
    "h = Dense(16, activation='relu')(visible)\n",
    "h = Dense(16, activation='relu')(h)\n",
    "saida = Dense(1, activation='sigmoid')(h)\n",
    "\n",
    "model = Model(inputs=[visible], outputs=[saida])\n",
    "\n",
    "model.compile(optimizer='adam', loss='binary_crossentropy', metrics=['accuracy'])\n",
    "\n",
    "model.summary()"
   ]
  },
  {
   "cell_type": "markdown",
   "metadata": {
    "colab_type": "text",
    "id": "_Y8CXxENlzyr"
   },
   "source": [
    "### Binary Cross-Entropy\n",
    "\n",
    "Função de perda utilizada em problemas de classificação binária, onde $\\text{Classes} = \\{ C_1, C_2\\}$\n",
    "\n",
    "A Entropia Cruzada binária é definida como:\n",
    "\n",
    "$CE = - \\sum_{i=1}^{2} t_{i} \\log (s_{i}) = -t_{1} \\log (s_{1}) - (1 - t_{1}) \\log (1 - s_{1})$\n",
    "\n",
    "onde é $s_i$ é a saída de um neurónio sigmoid, e $t_1$ e $t_2$ são os rótulos."
   ]
  },
  {
   "cell_type": "code",
   "execution_count": null,
   "metadata": {
    "colab": {
     "base_uri": "https://localhost:8080/",
     "height": 34
    },
    "colab_type": "code",
    "id": "YZad8IcL9BBT",
    "outputId": "5394726c-f966-405b-979d-4685f18fdbce"
   },
   "outputs": [
    {
     "data": {
      "text/plain": [
       "array([-2.30258509, -1.60943791, -1.2039728 , -0.10536052,  0.        ])"
      ]
     },
     "execution_count": 12,
     "metadata": {
      "tags": []
     },
     "output_type": "execute_result"
    }
   ],
   "source": [
    "np.log([0.1, 0.2, 0.3, 0.9, 1])"
   ]
  },
  {
   "cell_type": "markdown",
   "metadata": {
    "colab_type": "text",
    "id": "FXSAvk82GMfc"
   },
   "source": [
    "## Validando nossa abordagem\n",
    "\n",
    "Para monitorar durante o treinamento a acuracia do modelo nos dados que ele nunca viu antes, criaremos um \"conjunto de validação\" separando 10.000 amostras dos dados de treinamento originais:"
   ]
  },
  {
   "cell_type": "code",
   "execution_count": null,
   "metadata": {
    "colab": {},
    "colab_type": "code",
    "id": "GqPYqiZAFh8X"
   },
   "outputs": [],
   "source": [
    "x_val = x_train[:10000]\n",
    "partial_x_train = x_train[10000:]\n",
    "\n",
    "y_val = y_train[:10000]\n",
    "partial_y_train = y_train[10000:]"
   ]
  },
  {
   "cell_type": "markdown",
   "metadata": {
    "colab_type": "text",
    "id": "maLj03xVGX8l"
   },
   "source": [
    "## Treinamento"
   ]
  },
  {
   "cell_type": "code",
   "execution_count": null,
   "metadata": {
    "colab": {
     "base_uri": "https://localhost:8080/",
     "height": 697
    },
    "colab_type": "code",
    "id": "6DkxDYZCGZT8",
    "outputId": "96a373b9-8155-4081-e804-49e8ed8f45b2"
   },
   "outputs": [
    {
     "name": "stdout",
     "output_type": "stream",
     "text": [
      "Epoch 1/20\n",
      "30/30 [==============================] - 1s 42ms/step - loss: 0.5598 - accuracy: 0.7725 - val_loss: 0.4153 - val_accuracy: 0.8522\n",
      "Epoch 2/20\n",
      "30/30 [==============================] - 1s 32ms/step - loss: 0.3154 - accuracy: 0.8985 - val_loss: 0.3066 - val_accuracy: 0.8864\n",
      "Epoch 3/20\n",
      "30/30 [==============================] - 1s 31ms/step - loss: 0.2165 - accuracy: 0.9295 - val_loss: 0.2783 - val_accuracy: 0.8895\n",
      "Epoch 4/20\n",
      "30/30 [==============================] - 1s 32ms/step - loss: 0.1650 - accuracy: 0.9475 - val_loss: 0.2798 - val_accuracy: 0.8873\n",
      "Epoch 5/20\n",
      "30/30 [==============================] - 1s 32ms/step - loss: 0.1274 - accuracy: 0.9639 - val_loss: 0.2873 - val_accuracy: 0.8862\n",
      "Epoch 6/20\n",
      "30/30 [==============================] - 1s 37ms/step - loss: 0.1014 - accuracy: 0.9726 - val_loss: 0.3055 - val_accuracy: 0.8824\n",
      "Epoch 7/20\n",
      "30/30 [==============================] - 1s 37ms/step - loss: 0.0814 - accuracy: 0.9805 - val_loss: 0.3239 - val_accuracy: 0.8819\n",
      "Epoch 8/20\n",
      "30/30 [==============================] - 1s 33ms/step - loss: 0.0660 - accuracy: 0.9859 - val_loss: 0.3445 - val_accuracy: 0.8794\n",
      "Epoch 9/20\n",
      "30/30 [==============================] - 1s 33ms/step - loss: 0.0536 - accuracy: 0.9904 - val_loss: 0.3706 - val_accuracy: 0.8761\n",
      "Epoch 10/20\n",
      "30/30 [==============================] - 1s 39ms/step - loss: 0.0416 - accuracy: 0.9932 - val_loss: 0.3943 - val_accuracy: 0.8757\n",
      "Epoch 11/20\n",
      "30/30 [==============================] - 1s 34ms/step - loss: 0.0327 - accuracy: 0.9963 - val_loss: 0.4185 - val_accuracy: 0.8754\n",
      "Epoch 12/20\n",
      "30/30 [==============================] - 1s 42ms/step - loss: 0.0263 - accuracy: 0.9979 - val_loss: 0.4455 - val_accuracy: 0.8745\n",
      "Epoch 13/20\n",
      "30/30 [==============================] - 1s 43ms/step - loss: 0.0215 - accuracy: 0.9991 - val_loss: 0.4685 - val_accuracy: 0.8709\n",
      "Epoch 14/20\n",
      "30/30 [==============================] - 1s 37ms/step - loss: 0.0174 - accuracy: 0.9993 - val_loss: 0.4912 - val_accuracy: 0.8723\n",
      "Epoch 15/20\n",
      "30/30 [==============================] - 1s 33ms/step - loss: 0.0143 - accuracy: 0.9997 - val_loss: 0.5141 - val_accuracy: 0.8713\n",
      "Epoch 16/20\n",
      "30/30 [==============================] - 1s 32ms/step - loss: 0.0118 - accuracy: 0.9998 - val_loss: 0.5368 - val_accuracy: 0.8705\n",
      "Epoch 17/20\n",
      "30/30 [==============================] - 1s 38ms/step - loss: 0.0099 - accuracy: 0.9999 - val_loss: 0.5564 - val_accuracy: 0.8694\n",
      "Epoch 18/20\n",
      "30/30 [==============================] - 1s 42ms/step - loss: 0.0084 - accuracy: 0.9999 - val_loss: 0.5769 - val_accuracy: 0.8682\n",
      "Epoch 19/20\n",
      "30/30 [==============================] - 1s 34ms/step - loss: 0.0072 - accuracy: 0.9999 - val_loss: 0.5954 - val_accuracy: 0.8680\n",
      "Epoch 20/20\n",
      "30/30 [==============================] - 1s 40ms/step - loss: 0.0062 - accuracy: 0.9999 - val_loss: 0.6117 - val_accuracy: 0.8669\n"
     ]
    }
   ],
   "source": [
    "history = model.fit(partial_x_train,\n",
    "                    partial_y_train,\n",
    "                    epochs=20,\n",
    "                    batch_size=512,\n",
    "                    validation_data=(x_val, y_val))"
   ]
  },
  {
   "cell_type": "markdown",
   "metadata": {
    "colab_type": "text",
    "id": "OXce90r1GjFv"
   },
   "source": [
    "## Graficos de treinamento"
   ]
  },
  {
   "cell_type": "code",
   "execution_count": null,
   "metadata": {
    "colab": {
     "base_uri": "https://localhost:8080/",
     "height": 34
    },
    "colab_type": "code",
    "id": "e1IKzNPPGb8b",
    "outputId": "05e41c8a-6ae8-4444-c49f-1ec0f1731b0b"
   },
   "outputs": [
    {
     "data": {
      "text/plain": [
       "dict_keys(['loss', 'accuracy', 'val_loss', 'val_accuracy'])"
      ]
     },
     "execution_count": 15,
     "metadata": {
      "tags": []
     },
     "output_type": "execute_result"
    }
   ],
   "source": [
    "history_dict = history.history\n",
    "history_dict.keys()"
   ]
  },
  {
   "cell_type": "code",
   "execution_count": null,
   "metadata": {
    "colab": {
     "base_uri": "https://localhost:8080/",
     "height": 350
    },
    "colab_type": "code",
    "id": "N-mjvTEVGgCl",
    "outputId": "5a0dabad-9d00-4843-fd39-0ed801c6acf2"
   },
   "outputs": [
    {
     "data": {
      "image/png": "[encoded data removed]",
      "text/plain": [
       "<Figure size 1296x360 with 2 Axes>"
      ]
     },
     "metadata": {
      "needs_background": "light",
      "tags": []
     },
     "output_type": "display_data"
    }
   ],
   "source": [
    "import matplotlib.pyplot as plt\n",
    "\n",
    "acc = history.history['accuracy']\n",
    "val_acc = history.history['val_accuracy']\n",
    "loss = history.history['loss']\n",
    "val_loss = history.history['val_loss']\n",
    "\n",
    "epochs = range(1, len(acc) + 1)\n",
    "\n",
    "plt.figure(figsize=(18,5))\n",
    "plt.subplot(1,2,1)\n",
    "plt.plot(epochs, loss, label='Training loss')\n",
    "plt.plot(epochs, val_loss, '-.r', label='Validation loss')\n",
    "plt.title('Training and validation loss')\n",
    "plt.xlabel('Epochs')\n",
    "plt.ylabel('Loss')\n",
    "plt.legend()\n",
    "\n",
    "plt.subplot(1,2,2)\n",
    "plt.plot(epochs, acc, label='Training acc')\n",
    "plt.plot(epochs, val_acc, '-.r', label='Validation acc')\n",
    "plt.title('Training and validation accuracy')\n",
    "plt.xlabel('Epochs')\n",
    "plt.ylabel('Loss')\n",
    "plt.legend()\n",
    "\n",
    "plt.show()"
   ]
  },
  {
   "cell_type": "markdown",
   "metadata": {
    "colab_type": "text",
    "id": "crAu6tuBHum1"
   },
   "source": [
    "## Overfitting\n",
    "\n",
    "Para evitar overfitting, poderíamos simplesmente interromper o treinamento após três épocas. \n",
    "\n",
    "Em geral, há uma variedade de técnicas que podemos utilizar para mitigar o sobreajuste.\n",
    "\n",
    "Vamos treinar uma nova rede do zero por quatro épocas e, em seguida, avaliar os dados de teste"
   ]
  },
  {
   "cell_type": "code",
   "execution_count": null,
   "metadata": {
    "colab": {
     "base_uri": "https://localhost:8080/",
     "height": 187
    },
    "colab_type": "code",
    "id": "stGesnUKGrDW",
    "outputId": "9d94063a-34b2-4fd9-9be2-cf4b2883f606"
   },
   "outputs": [
    {
     "name": "stdout",
     "output_type": "stream",
     "text": [
      "Epoch 1/5\n",
      "30/30 [==============================] - 2s 54ms/step - loss: 0.5540 - accuracy: 0.7784 - val_loss: 0.3988 - val_accuracy: 0.8587\n",
      "Epoch 2/5\n",
      "30/30 [==============================] - 1s 43ms/step - loss: 0.2962 - accuracy: 0.9013 - val_loss: 0.2907 - val_accuracy: 0.8885\n",
      "Epoch 3/5\n",
      "30/30 [==============================] - 1s 43ms/step - loss: 0.1945 - accuracy: 0.9358 - val_loss: 0.2757 - val_accuracy: 0.8903\n",
      "Epoch 4/5\n",
      "30/30 [==============================] - 1s 43ms/step - loss: 0.1416 - accuracy: 0.9560 - val_loss: 0.2843 - val_accuracy: 0.8859\n",
      "Epoch 5/5\n",
      "30/30 [==============================] - 1s 39ms/step - loss: 0.1073 - accuracy: 0.9710 - val_loss: 0.3035 - val_accuracy: 0.8843\n"
     ]
    }
   ],
   "source": [
    "v = Input(shape=(10000,))\n",
    "h = Dense(16, activation='relu')(v)\n",
    "h = Dense(16, activation='relu')(h)\n",
    "s = Dense(1, activation='sigmoid')(h)\n",
    "\n",
    "model2 = Model(inputs=[v], outputs=[s] )\n",
    "\n",
    "model2.compile(optimizer='adam',\n",
    "               loss='binary_crossentropy',\n",
    "               metrics=['accuracy'])\n",
    "\n",
    "history2 = model2.fit(partial_x_train,\n",
    "                      partial_y_train,\n",
    "                      epochs=5,\n",
    "                      batch_size=512,\n",
    "                      validation_data=(x_val, y_val))"
   ]
  },
  {
   "cell_type": "code",
   "execution_count": null,
   "metadata": {
    "colab": {
     "base_uri": "https://localhost:8080/",
     "height": 51
    },
    "colab_type": "code",
    "id": "kjHNWlzMA92g",
    "outputId": "94038f07-92ad-490c-c396-9ecc0ed4a09b"
   },
   "outputs": [
    {
     "name": "stdout",
     "output_type": "stream",
     "text": [
      "782/782 [==============================] - 2s 2ms/step - loss: 0.9426 - accuracy: 0.8496\n"
     ]
    },
    {
     "data": {
      "text/plain": [
       "[0.9426481127738953, 0.849560022354126]"
      ]
     },
     "execution_count": 23,
     "metadata": {
      "tags": []
     },
     "output_type": "execute_result"
    }
   ],
   "source": [
    "results1 = model.evaluate(x_test,  y_test)\n",
    "results1"
   ]
  },
  {
   "cell_type": "code",
   "execution_count": null,
   "metadata": {
    "colab": {
     "base_uri": "https://localhost:8080/",
     "height": 51
    },
    "colab_type": "code",
    "id": "YmozqztMIQSH",
    "outputId": "307b281f-6ce5-418a-cd3a-694fd873834b"
   },
   "outputs": [
    {
     "name": "stdout",
     "output_type": "stream",
     "text": [
      "782/782 [==============================] - 2s 2ms/step - loss: 0.3250 - accuracy: 0.8737\n"
     ]
    },
    {
     "data": {
      "text/plain": [
       "[0.3249896764755249, 0.8736799955368042]"
      ]
     },
     "execution_count": 24,
     "metadata": {
      "tags": []
     },
     "output_type": "execute_result"
    }
   ],
   "source": [
    "results2 = model2.evaluate(x_test,  y_test)\n",
    "results2"
   ]
  },
  {
   "cell_type": "markdown",
   "metadata": {
    "colab_type": "text",
    "id": "XoG9Jj32IfyC"
   },
   "source": [
    "## Predit\n",
    "\n",
    "Usando uma rede treinada para gerar previsões sobre novos dados"
   ]
  },
  {
   "cell_type": "code",
   "execution_count": null,
   "metadata": {
    "colab": {
     "base_uri": "https://localhost:8080/",
     "height": 136
    },
    "colab_type": "code",
    "id": "Q47qW6FrISyn",
    "outputId": "42c158e9-33f2-424c-c6c2-e3be63e12e9a"
   },
   "outputs": [
    {
     "data": {
      "text/plain": [
       "array([[0.23478085],\n",
       "       [0.9998151 ],\n",
       "       [0.9281206 ],\n",
       "       ...,\n",
       "       [0.04702857],\n",
       "       [0.07964551],\n",
       "       [0.7389285 ]], dtype=float32)"
      ]
     },
     "execution_count": 26,
     "metadata": {
      "tags": []
     },
     "output_type": "execute_result"
    }
   ],
   "source": [
    "model2.predict(x_test)"
   ]
  },
  {
   "cell_type": "code",
   "execution_count": null,
   "metadata": {
    "colab": {},
    "colab_type": "code",
    "id": "sEaWSvU9IpQ0"
   },
   "outputs": [],
   "source": []
  }
 ],
 "metadata": {
  "colab": {
   "collapsed_sections": [],
   "name": "Exemplo de classificação binaria (para completar).ipynb",
   "provenance": []
  },
  "kernelspec": {
   "display_name": "Python 3",
   "language": "python",
   "name": "python3"
  },
  "language_info": {
   "codemirror_mode": {
    "name": "ipython",
    "version": 3
   },
   "file_extension": ".py",
   "mimetype": "text/x-python",
   "name": "python",
   "nbconvert_exporter": "python",
   "pygments_lexer": "ipython3",
   "version": "3.7.7"
  }
 },
 "nbformat": 4,
 "nbformat_minor": 1
}
