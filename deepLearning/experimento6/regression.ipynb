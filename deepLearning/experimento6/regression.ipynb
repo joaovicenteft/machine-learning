{
 "cells": [
  {
   "cell_type": "markdown",
   "metadata": {
    "id": "MvIWsB9P9kjz"
   },
   "source": [
    "## Prevendo preços de casas: um exemplo de regressão\n",
    "\n",
    "Em nossos dois exemplos anteriores, estávamos considerando problemas de classificação, em que o objetivo era prever um único rótulo discreto. Outro tipo comum de problema de aprendizado de máquina é a \"regressão\", que consiste em prever um valor contínuo em vez de um rótulo discreto. \n",
    "\n",
    "Por exemplo, prever a temperatura amanhã a partir de dados meteorológicos, ou prever o tempo de recuperação de um paciente, etc.\n",
    "\n",
    "\n",
    "---\n",
    "\n",
    "\n",
    "Para nosso exemplo vamos utilizar o dataset **Boston Housing Price**. O objetivo será prever o preço médio das casas em um barrio de Boston na década de 1970, dadas algumas informações da época, como a taxa de criminalidade, IPTU, etc.\n",
    "\n",
    "Uma particularidade deste conjunto é que ele tem muito poucos pontos de dados, apenas 506 no total, dividido entre 404 amostras de treinamento e 102 amostras de teste.\n",
    "\n",
    "Outra particularidade é que a escala dos das features é bem diferente. Por exemplo, alguns valores são proporções, que assumem valores entre 0 e 1, outros assumem valores entre 1 e 12, outros entre 0 e 100, etc."
   ]
  },
  {
   "cell_type": "code",
   "execution_count": 1,
   "metadata": {
    "colab": {
     "base_uri": "https://localhost:8080/",
     "height": 453
    },
    "id": "l-lum-abO6u8",
    "outputId": "b8517bf6-0502-4256-8462-f0a1a3e0149d"
   },
   "outputs": [
    {
     "name": "stdout",
     "output_type": "stream",
     "text": [
      "Downloading data from https://storage.googleapis.com/tensorflow/tf-keras-datasets/boston_housing.npz\n",
      "57344/57026 [==============================] - 0s 3us/step\n",
      "(404, 13)\n",
      "(102, 13)\n"
     ]
    },
    {
     "data": {
      "text/html": [
       "<div>\n",
       "<style scoped>\n",
       "    .dataframe tbody tr th:only-of-type {\n",
       "        vertical-align: middle;\n",
       "    }\n",
       "\n",
       "    .dataframe tbody tr th {\n",
       "        vertical-align: top;\n",
       "    }\n",
       "\n",
       "    .dataframe thead th {\n",
       "        text-align: right;\n",
       "    }\n",
       "</style>\n",
       "<table border=\"1\" class=\"dataframe\">\n",
       "  <thead>\n",
       "    <tr style=\"text-align: right;\">\n",
       "      <th></th>\n",
       "      <th>0</th>\n",
       "      <th>1</th>\n",
       "      <th>2</th>\n",
       "      <th>3</th>\n",
       "      <th>4</th>\n",
       "      <th>5</th>\n",
       "      <th>6</th>\n",
       "      <th>7</th>\n",
       "      <th>8</th>\n",
       "      <th>9</th>\n",
       "      <th>10</th>\n",
       "      <th>11</th>\n",
       "      <th>12</th>\n",
       "    </tr>\n",
       "  </thead>\n",
       "  <tbody>\n",
       "    <tr>\n",
       "      <th>0</th>\n",
       "      <td>1.23247</td>\n",
       "      <td>0.0</td>\n",
       "      <td>8.14</td>\n",
       "      <td>0.0</td>\n",
       "      <td>0.5380</td>\n",
       "      <td>6.142</td>\n",
       "      <td>91.7</td>\n",
       "      <td>3.9769</td>\n",
       "      <td>4.0</td>\n",
       "      <td>307.0</td>\n",
       "      <td>21.0</td>\n",
       "      <td>396.90</td>\n",
       "      <td>18.72</td>\n",
       "    </tr>\n",
       "    <tr>\n",
       "      <th>1</th>\n",
       "      <td>0.02177</td>\n",
       "      <td>82.5</td>\n",
       "      <td>2.03</td>\n",
       "      <td>0.0</td>\n",
       "      <td>0.4150</td>\n",
       "      <td>7.610</td>\n",
       "      <td>15.7</td>\n",
       "      <td>6.2700</td>\n",
       "      <td>2.0</td>\n",
       "      <td>348.0</td>\n",
       "      <td>14.7</td>\n",
       "      <td>395.38</td>\n",
       "      <td>3.11</td>\n",
       "    </tr>\n",
       "    <tr>\n",
       "      <th>2</th>\n",
       "      <td>4.89822</td>\n",
       "      <td>0.0</td>\n",
       "      <td>18.10</td>\n",
       "      <td>0.0</td>\n",
       "      <td>0.6310</td>\n",
       "      <td>4.970</td>\n",
       "      <td>100.0</td>\n",
       "      <td>1.3325</td>\n",
       "      <td>24.0</td>\n",
       "      <td>666.0</td>\n",
       "      <td>20.2</td>\n",
       "      <td>375.52</td>\n",
       "      <td>3.26</td>\n",
       "    </tr>\n",
       "    <tr>\n",
       "      <th>3</th>\n",
       "      <td>0.03961</td>\n",
       "      <td>0.0</td>\n",
       "      <td>5.19</td>\n",
       "      <td>0.0</td>\n",
       "      <td>0.5150</td>\n",
       "      <td>6.037</td>\n",
       "      <td>34.5</td>\n",
       "      <td>5.9853</td>\n",
       "      <td>5.0</td>\n",
       "      <td>224.0</td>\n",
       "      <td>20.2</td>\n",
       "      <td>396.90</td>\n",
       "      <td>8.01</td>\n",
       "    </tr>\n",
       "    <tr>\n",
       "      <th>4</th>\n",
       "      <td>3.69311</td>\n",
       "      <td>0.0</td>\n",
       "      <td>18.10</td>\n",
       "      <td>0.0</td>\n",
       "      <td>0.7130</td>\n",
       "      <td>6.376</td>\n",
       "      <td>88.4</td>\n",
       "      <td>2.5671</td>\n",
       "      <td>24.0</td>\n",
       "      <td>666.0</td>\n",
       "      <td>20.2</td>\n",
       "      <td>391.43</td>\n",
       "      <td>14.65</td>\n",
       "    </tr>\n",
       "    <tr>\n",
       "      <th>...</th>\n",
       "      <td>...</td>\n",
       "      <td>...</td>\n",
       "      <td>...</td>\n",
       "      <td>...</td>\n",
       "      <td>...</td>\n",
       "      <td>...</td>\n",
       "      <td>...</td>\n",
       "      <td>...</td>\n",
       "      <td>...</td>\n",
       "      <td>...</td>\n",
       "      <td>...</td>\n",
       "      <td>...</td>\n",
       "      <td>...</td>\n",
       "    </tr>\n",
       "    <tr>\n",
       "      <th>399</th>\n",
       "      <td>0.21977</td>\n",
       "      <td>0.0</td>\n",
       "      <td>6.91</td>\n",
       "      <td>0.0</td>\n",
       "      <td>0.4480</td>\n",
       "      <td>5.602</td>\n",
       "      <td>62.0</td>\n",
       "      <td>6.0877</td>\n",
       "      <td>3.0</td>\n",
       "      <td>233.0</td>\n",
       "      <td>17.9</td>\n",
       "      <td>396.90</td>\n",
       "      <td>16.20</td>\n",
       "    </tr>\n",
       "    <tr>\n",
       "      <th>400</th>\n",
       "      <td>0.16211</td>\n",
       "      <td>20.0</td>\n",
       "      <td>6.96</td>\n",
       "      <td>0.0</td>\n",
       "      <td>0.4640</td>\n",
       "      <td>6.240</td>\n",
       "      <td>16.3</td>\n",
       "      <td>4.4290</td>\n",
       "      <td>3.0</td>\n",
       "      <td>223.0</td>\n",
       "      <td>18.6</td>\n",
       "      <td>396.90</td>\n",
       "      <td>6.59</td>\n",
       "    </tr>\n",
       "    <tr>\n",
       "      <th>401</th>\n",
       "      <td>0.03466</td>\n",
       "      <td>35.0</td>\n",
       "      <td>6.06</td>\n",
       "      <td>0.0</td>\n",
       "      <td>0.4379</td>\n",
       "      <td>6.031</td>\n",
       "      <td>23.3</td>\n",
       "      <td>6.6407</td>\n",
       "      <td>1.0</td>\n",
       "      <td>304.0</td>\n",
       "      <td>16.9</td>\n",
       "      <td>362.25</td>\n",
       "      <td>7.83</td>\n",
       "    </tr>\n",
       "    <tr>\n",
       "      <th>402</th>\n",
       "      <td>2.14918</td>\n",
       "      <td>0.0</td>\n",
       "      <td>19.58</td>\n",
       "      <td>0.0</td>\n",
       "      <td>0.8710</td>\n",
       "      <td>5.709</td>\n",
       "      <td>98.5</td>\n",
       "      <td>1.6232</td>\n",
       "      <td>5.0</td>\n",
       "      <td>403.0</td>\n",
       "      <td>14.7</td>\n",
       "      <td>261.95</td>\n",
       "      <td>15.79</td>\n",
       "    </tr>\n",
       "    <tr>\n",
       "      <th>403</th>\n",
       "      <td>0.01439</td>\n",
       "      <td>60.0</td>\n",
       "      <td>2.93</td>\n",
       "      <td>0.0</td>\n",
       "      <td>0.4010</td>\n",
       "      <td>6.604</td>\n",
       "      <td>18.8</td>\n",
       "      <td>6.2196</td>\n",
       "      <td>1.0</td>\n",
       "      <td>265.0</td>\n",
       "      <td>15.6</td>\n",
       "      <td>376.70</td>\n",
       "      <td>4.38</td>\n",
       "    </tr>\n",
       "  </tbody>\n",
       "</table>\n",
       "<p>404 rows × 13 columns</p>\n",
       "</div>"
      ],
      "text/plain": [
       "           0     1      2    3       4      5      6       7     8      9  \\\n",
       "0    1.23247   0.0   8.14  0.0  0.5380  6.142   91.7  3.9769   4.0  307.0   \n",
       "1    0.02177  82.5   2.03  0.0  0.4150  7.610   15.7  6.2700   2.0  348.0   \n",
       "2    4.89822   0.0  18.10  0.0  0.6310  4.970  100.0  1.3325  24.0  666.0   \n",
       "3    0.03961   0.0   5.19  0.0  0.5150  6.037   34.5  5.9853   5.0  224.0   \n",
       "4    3.69311   0.0  18.10  0.0  0.7130  6.376   88.4  2.5671  24.0  666.0   \n",
       "..       ...   ...    ...  ...     ...    ...    ...     ...   ...    ...   \n",
       "399  0.21977   0.0   6.91  0.0  0.4480  5.602   62.0  6.0877   3.0  233.0   \n",
       "400  0.16211  20.0   6.96  0.0  0.4640  6.240   16.3  4.4290   3.0  223.0   \n",
       "401  0.03466  35.0   6.06  0.0  0.4379  6.031   23.3  6.6407   1.0  304.0   \n",
       "402  2.14918   0.0  19.58  0.0  0.8710  5.709   98.5  1.6232   5.0  403.0   \n",
       "403  0.01439  60.0   2.93  0.0  0.4010  6.604   18.8  6.2196   1.0  265.0   \n",
       "\n",
       "       10      11     12  \n",
       "0    21.0  396.90  18.72  \n",
       "1    14.7  395.38   3.11  \n",
       "2    20.2  375.52   3.26  \n",
       "3    20.2  396.90   8.01  \n",
       "4    20.2  391.43  14.65  \n",
       "..    ...     ...    ...  \n",
       "399  17.9  396.90  16.20  \n",
       "400  18.6  396.90   6.59  \n",
       "401  16.9  362.25   7.83  \n",
       "402  14.7  261.95  15.79  \n",
       "403  15.6  376.70   4.38  \n",
       "\n",
       "[404 rows x 13 columns]"
      ]
     },
     "execution_count": 1,
     "metadata": {},
     "output_type": "execute_result"
    }
   ],
   "source": [
    "from keras.datasets import boston_housing\n",
    "import numpy as np\n",
    "import pandas as pd\n",
    "\n",
    "\n",
    "(train_data, train_targets), (test_data, test_targets) =  boston_housing.load_data()\n",
    "\n",
    "print(train_data.shape)\n",
    "print(test_data.shape)\n",
    "df = pd.DataFrame(train_data)\n",
    "df"
   ]
  },
  {
   "cell_type": "markdown",
   "metadata": {
    "id": "3svl62ls-9v1"
   },
   "source": [
    "**Features:**\n",
    "\n",
    "http://lib.stat.cmu.edu/datasets/boston\n",
    "\n",
    "1. CRIM: per capita crime rate by town\n",
    "2. ZN: proportion of residential land zoned for lots over 25,000 sq.ft.\n",
    "3. INDUS: proportion of non-retail business acres per town\n",
    "4. CHAS: Charles River dummy variable (= 1 if tract bounds river; 0 otherwise)\n",
    "5. NOX: nitric oxides concentration (parts per 10 million)\n",
    "6. RM: average number of rooms per dwelling\n",
    "7. AGE: proportion of owner-occupied units built prior to 1940\n",
    "8. DIS: weighted distances to five Boston employment centres\n",
    "9. RAD: index of accessibility to radial highways\n",
    "10. TAX: full-value property-tax rate per \\$10,000\n",
    "11. PTRATIO: pupil-teacher ratio by town\n",
    "12. B: $1000(Bk - 0.63)^2$ where Bk is the proportion of blacks by town\n",
    "13. LSTAT: %lower status of the population\n",
    "\n",
    "Rótulo: MEDV: Median value of owner-occupied homes in $1000's"
   ]
  },
  {
   "cell_type": "code",
   "execution_count": 2,
   "metadata": {
    "colab": {
     "base_uri": "https://localhost:8080/",
     "height": 510
    },
    "id": "s5pL7d7q_ApW",
    "outputId": "7794a998-170f-4220-9591-8a417f081bad"
   },
   "outputs": [
    {
     "name": "stdout",
     "output_type": "stream",
     "text": [
      "[15.2 42.3 50.  21.1 17.7 18.5 11.3 15.6 15.6 14.4 12.1 17.9 23.1 19.9\n",
      " 15.7  8.8 50.  22.5 24.1 27.5 10.9 30.8 32.9 24.  18.5 13.3 22.9 34.7\n",
      " 16.6 17.5 22.3 16.1 14.9 23.1 34.9 25.  13.9 13.1 20.4 20.  15.2 24.7\n",
      " 22.2 16.7 12.7 15.6 18.4 21.  30.1 15.1 18.7  9.6 31.5 24.8 19.1 22.\n",
      " 14.5 11.  32.  29.4 20.3 24.4 14.6 19.5 14.1 14.3 15.6 10.5  6.3 19.3\n",
      " 19.3 13.4 36.4 17.8 13.5 16.5  8.3 14.3 16.  13.4 28.6 43.5 20.2 22.\n",
      " 23.  20.7 12.5 48.5 14.6 13.4 23.7 50.  21.7 39.8 38.7 22.2 34.9 22.5\n",
      " 31.1 28.7 46.  41.7 21.  26.6 15.  24.4 13.3 21.2 11.7 21.7 19.4 50.\n",
      " 22.8 19.7 24.7 36.2 14.2 18.9 18.3 20.6 24.6 18.2  8.7 44.  10.4 13.2\n",
      " 21.2 37.  30.7 22.9 20.  19.3 31.7 32.  23.1 18.8 10.9 50.  19.6  5.\n",
      " 14.4 19.8 13.8 19.6 23.9 24.5 25.  19.9 17.2 24.6 13.5 26.6 21.4 11.9\n",
      " 22.6 19.6  8.5 23.7 23.1 22.4 20.5 23.6 18.4 35.2 23.1 27.9 20.6 23.7\n",
      " 28.  13.6 27.1 23.6 20.6 18.2 21.7 17.1  8.4 25.3 13.8 22.2 18.4 20.7\n",
      " 31.6 30.5 20.3  8.8 19.2 19.4 23.1 23.  14.8 48.8 22.6 33.4 21.1 13.6\n",
      " 32.2 13.1 23.4 18.9 23.9 11.8 23.3 22.8 19.6 16.7 13.4 22.2 20.4 21.8\n",
      " 26.4 14.9 24.1 23.8 12.3 29.1 21.  19.5 23.3 23.8 17.8 11.5 21.7 19.9\n",
      " 25.  33.4 28.5 21.4 24.3 27.5 33.1 16.2 23.3 48.3 22.9 22.8 13.1 12.7\n",
      " 22.6 15.  15.3 10.5 24.  18.5 21.7 19.5 33.2 23.2  5.  19.1 12.7 22.3\n",
      " 10.2 13.9 16.3 17.  20.1 29.9 17.2 37.3 45.4 17.8 23.2 29.  22.  18.\n",
      " 17.4 34.6 20.1 25.  15.6 24.8 28.2 21.2 21.4 23.8 31.  26.2 17.4 37.9\n",
      " 17.5 20.   8.3 23.9  8.4 13.8  7.2 11.7 17.1 21.6 50.  16.1 20.4 20.6\n",
      " 21.4 20.6 36.5  8.5 24.8 10.8 21.9 17.3 18.9 36.2 14.9 18.2 33.3 21.8\n",
      " 19.7 31.6 24.8 19.4 22.8  7.5 44.8 16.8 18.7 50.  50.  19.5 20.1 50.\n",
      " 17.2 20.8 19.3 41.3 20.4 20.5 13.8 16.5 23.9 20.6 31.5 23.3 16.8 14.\n",
      " 33.8 36.1 12.8 18.3 18.7 19.1 29.  30.1 50.  50.  22.  11.9 37.6 50.\n",
      " 22.7 20.8 23.5 27.9 50.  19.3 23.9 22.6 15.2 21.7 19.2 43.8 20.3 33.2\n",
      " 19.9 22.5 32.7 22.  17.1 19.  15.  16.1 25.1 23.7 28.7 37.2 22.6 16.4\n",
      " 25.  29.8 22.1 17.4 18.1 30.3 17.5 24.7 12.6 26.5 28.7 13.3 10.4 24.4\n",
      " 23.  20.  17.8  7.  11.8 24.4 13.8 19.4 25.2 19.4 19.4 29.1]\n"
     ]
    }
   ],
   "source": [
    "print(train_targets)"
   ]
  },
  {
   "cell_type": "markdown",
   "metadata": {
    "id": "t-gHipvtC8Ty"
   },
   "source": [
    "## Preparando os dados\n",
    "\n",
    "Seria problemático alimentar a rede neural com fetures em escalas totalmente diferentes. A rede pode ser capaz de se adaptar automaticamente a esses dados heterogêneos, mas certamente tornaria o aprendizado mais difícil. \n",
    "\n",
    "Uma prática recomendada para lidar com esses dados é fazer a normalização das features: \n",
    "\n",
    "* para cada feature (coluna na matriz de dados de entrada), vamos subtrair a média e dividir pelo desvio padrão, causando uma centralização em torno de 0 e terá um desvio padrão de uma unidade.\n",
    "\n",
    "No sklearn pode ser feito com o método StandarScaler"
   ]
  },
  {
   "cell_type": "code",
   "execution_count": 4,
   "metadata": {
    "colab": {
     "base_uri": "https://localhost:8080/",
     "height": 85
    },
    "id": "rz4tXyHFPJ_k",
    "outputId": "968a6118-d895-49fc-c3f1-26bc0c136692"
   },
   "outputs": [
    {
     "name": "stdout",
     "output_type": "stream",
     "text": [
      "[-1.01541438e-16  1.09923072e-17  1.80933376e-15 -7.80453809e-17\n",
      " -5.25047552e-15  6.43187374e-15  2.98441140e-16  4.94653823e-16\n",
      "  1.12671149e-17 -1.05526149e-16  2.36614908e-14  5.96710525e-15\n",
      "  6.13920356e-16]\n"
     ]
    }
   ],
   "source": [
    "mean = train_data.mean(axis=0)\n",
    "print(mean)\n",
    "train_data -= mean\n",
    "\n",
    "#adequação em relação à normal dos valores, evita escalas diferentes (0..1, 1..300)\n",
    "std = train_data.std(axis=0)\n",
    "train_data /= std\n",
    "\n",
    "test_data -= mean\n",
    "test_data /= std"
   ]
  },
  {
   "cell_type": "code",
   "execution_count": 5,
   "metadata": {
    "colab": {
     "base_uri": "https://localhost:8080/",
     "height": 419
    },
    "id": "KG3ZuqT_yTa5",
    "outputId": "1971b3a9-12de-4b20-bfe1-6cdb7e6a740c"
   },
   "outputs": [
    {
     "data": {
      "text/html": [
       "<div>\n",
       "<style scoped>\n",
       "    .dataframe tbody tr th:only-of-type {\n",
       "        vertical-align: middle;\n",
       "    }\n",
       "\n",
       "    .dataframe tbody tr th {\n",
       "        vertical-align: top;\n",
       "    }\n",
       "\n",
       "    .dataframe thead th {\n",
       "        text-align: right;\n",
       "    }\n",
       "</style>\n",
       "<table border=\"1\" class=\"dataframe\">\n",
       "  <thead>\n",
       "    <tr style=\"text-align: right;\">\n",
       "      <th></th>\n",
       "      <th>0</th>\n",
       "      <th>1</th>\n",
       "      <th>2</th>\n",
       "      <th>3</th>\n",
       "      <th>4</th>\n",
       "      <th>5</th>\n",
       "      <th>6</th>\n",
       "      <th>7</th>\n",
       "      <th>8</th>\n",
       "      <th>9</th>\n",
       "      <th>10</th>\n",
       "      <th>11</th>\n",
       "      <th>12</th>\n",
       "    </tr>\n",
       "  </thead>\n",
       "  <tbody>\n",
       "    <tr>\n",
       "      <th>0</th>\n",
       "      <td>-0.272246</td>\n",
       "      <td>-0.483615</td>\n",
       "      <td>-0.435762</td>\n",
       "      <td>-0.256833</td>\n",
       "      <td>-0.165227</td>\n",
       "      <td>-0.176443</td>\n",
       "      <td>0.813062</td>\n",
       "      <td>0.116698</td>\n",
       "      <td>-0.626249</td>\n",
       "      <td>-0.595170</td>\n",
       "      <td>1.148500</td>\n",
       "      <td>0.448077</td>\n",
       "      <td>0.825220</td>\n",
       "    </tr>\n",
       "    <tr>\n",
       "      <th>1</th>\n",
       "      <td>-0.403427</td>\n",
       "      <td>2.991784</td>\n",
       "      <td>-1.333912</td>\n",
       "      <td>-0.256833</td>\n",
       "      <td>-1.215182</td>\n",
       "      <td>1.894346</td>\n",
       "      <td>-1.910361</td>\n",
       "      <td>1.247585</td>\n",
       "      <td>-0.856463</td>\n",
       "      <td>-0.348433</td>\n",
       "      <td>-1.718189</td>\n",
       "      <td>0.431906</td>\n",
       "      <td>-1.329202</td>\n",
       "    </tr>\n",
       "    <tr>\n",
       "      <th>2</th>\n",
       "      <td>0.124940</td>\n",
       "      <td>-0.483615</td>\n",
       "      <td>1.028326</td>\n",
       "      <td>-0.256833</td>\n",
       "      <td>0.628642</td>\n",
       "      <td>-1.829688</td>\n",
       "      <td>1.110488</td>\n",
       "      <td>-1.187439</td>\n",
       "      <td>1.675886</td>\n",
       "      <td>1.565287</td>\n",
       "      <td>0.784476</td>\n",
       "      <td>0.220617</td>\n",
       "      <td>-1.308500</td>\n",
       "    </tr>\n",
       "    <tr>\n",
       "      <th>3</th>\n",
       "      <td>-0.401494</td>\n",
       "      <td>-0.483615</td>\n",
       "      <td>-0.869402</td>\n",
       "      <td>-0.256833</td>\n",
       "      <td>-0.361560</td>\n",
       "      <td>-0.324558</td>\n",
       "      <td>-1.236672</td>\n",
       "      <td>1.107180</td>\n",
       "      <td>-0.511142</td>\n",
       "      <td>-1.094663</td>\n",
       "      <td>0.784476</td>\n",
       "      <td>0.448077</td>\n",
       "      <td>-0.652926</td>\n",
       "    </tr>\n",
       "    <tr>\n",
       "      <th>4</th>\n",
       "      <td>-0.005634</td>\n",
       "      <td>-0.483615</td>\n",
       "      <td>1.028326</td>\n",
       "      <td>-0.256833</td>\n",
       "      <td>1.328612</td>\n",
       "      <td>0.153642</td>\n",
       "      <td>0.694808</td>\n",
       "      <td>-0.578572</td>\n",
       "      <td>1.675886</td>\n",
       "      <td>1.565287</td>\n",
       "      <td>0.784476</td>\n",
       "      <td>0.389882</td>\n",
       "      <td>0.263497</td>\n",
       "    </tr>\n",
       "    <tr>\n",
       "      <th>...</th>\n",
       "      <td>...</td>\n",
       "      <td>...</td>\n",
       "      <td>...</td>\n",
       "      <td>...</td>\n",
       "      <td>...</td>\n",
       "      <td>...</td>\n",
       "      <td>...</td>\n",
       "      <td>...</td>\n",
       "      <td>...</td>\n",
       "      <td>...</td>\n",
       "      <td>...</td>\n",
       "      <td>...</td>\n",
       "      <td>...</td>\n",
       "    </tr>\n",
       "    <tr>\n",
       "      <th>399</th>\n",
       "      <td>-0.381973</td>\n",
       "      <td>-0.483615</td>\n",
       "      <td>-0.616568</td>\n",
       "      <td>-0.256833</td>\n",
       "      <td>-0.933487</td>\n",
       "      <td>-0.938177</td>\n",
       "      <td>-0.251223</td>\n",
       "      <td>1.157680</td>\n",
       "      <td>-0.741356</td>\n",
       "      <td>-1.040501</td>\n",
       "      <td>-0.262093</td>\n",
       "      <td>0.448077</td>\n",
       "      <td>0.477421</td>\n",
       "    </tr>\n",
       "    <tr>\n",
       "      <th>400</th>\n",
       "      <td>-0.388221</td>\n",
       "      <td>0.358906</td>\n",
       "      <td>-0.609218</td>\n",
       "      <td>-0.256833</td>\n",
       "      <td>-0.796907</td>\n",
       "      <td>-0.038202</td>\n",
       "      <td>-1.888860</td>\n",
       "      <td>0.339660</td>\n",
       "      <td>-0.741356</td>\n",
       "      <td>-1.100681</td>\n",
       "      <td>0.056428</td>\n",
       "      <td>0.448077</td>\n",
       "      <td>-0.848908</td>\n",
       "    </tr>\n",
       "    <tr>\n",
       "      <th>401</th>\n",
       "      <td>-0.402030</td>\n",
       "      <td>0.990797</td>\n",
       "      <td>-0.741515</td>\n",
       "      <td>-0.256833</td>\n",
       "      <td>-1.019702</td>\n",
       "      <td>-0.333021</td>\n",
       "      <td>-1.638018</td>\n",
       "      <td>1.430403</td>\n",
       "      <td>-0.971569</td>\n",
       "      <td>-0.613224</td>\n",
       "      <td>-0.717123</td>\n",
       "      <td>0.079439</td>\n",
       "      <td>-0.677769</td>\n",
       "    </tr>\n",
       "    <tr>\n",
       "      <th>402</th>\n",
       "      <td>-0.172920</td>\n",
       "      <td>-0.483615</td>\n",
       "      <td>1.245881</td>\n",
       "      <td>-0.256833</td>\n",
       "      <td>2.677335</td>\n",
       "      <td>-0.787241</td>\n",
       "      <td>1.056737</td>\n",
       "      <td>-1.044075</td>\n",
       "      <td>-0.511142</td>\n",
       "      <td>-0.017443</td>\n",
       "      <td>-1.718189</td>\n",
       "      <td>-0.987644</td>\n",
       "      <td>0.420835</td>\n",
       "    </tr>\n",
       "    <tr>\n",
       "      <th>403</th>\n",
       "      <td>-0.404226</td>\n",
       "      <td>2.043948</td>\n",
       "      <td>-1.201615</td>\n",
       "      <td>-0.256833</td>\n",
       "      <td>-1.334689</td>\n",
       "      <td>0.475263</td>\n",
       "      <td>-1.799274</td>\n",
       "      <td>1.222729</td>\n",
       "      <td>-0.971569</td>\n",
       "      <td>-0.847926</td>\n",
       "      <td>-1.308662</td>\n",
       "      <td>0.233171</td>\n",
       "      <td>-1.153923</td>\n",
       "    </tr>\n",
       "  </tbody>\n",
       "</table>\n",
       "<p>404 rows × 13 columns</p>\n",
       "</div>"
      ],
      "text/plain": [
       "            0         1         2         3         4         5         6  \\\n",
       "0   -0.272246 -0.483615 -0.435762 -0.256833 -0.165227 -0.176443  0.813062   \n",
       "1   -0.403427  2.991784 -1.333912 -0.256833 -1.215182  1.894346 -1.910361   \n",
       "2    0.124940 -0.483615  1.028326 -0.256833  0.628642 -1.829688  1.110488   \n",
       "3   -0.401494 -0.483615 -0.869402 -0.256833 -0.361560 -0.324558 -1.236672   \n",
       "4   -0.005634 -0.483615  1.028326 -0.256833  1.328612  0.153642  0.694808   \n",
       "..        ...       ...       ...       ...       ...       ...       ...   \n",
       "399 -0.381973 -0.483615 -0.616568 -0.256833 -0.933487 -0.938177 -0.251223   \n",
       "400 -0.388221  0.358906 -0.609218 -0.256833 -0.796907 -0.038202 -1.888860   \n",
       "401 -0.402030  0.990797 -0.741515 -0.256833 -1.019702 -0.333021 -1.638018   \n",
       "402 -0.172920 -0.483615  1.245881 -0.256833  2.677335 -0.787241  1.056737   \n",
       "403 -0.404226  2.043948 -1.201615 -0.256833 -1.334689  0.475263 -1.799274   \n",
       "\n",
       "            7         8         9        10        11        12  \n",
       "0    0.116698 -0.626249 -0.595170  1.148500  0.448077  0.825220  \n",
       "1    1.247585 -0.856463 -0.348433 -1.718189  0.431906 -1.329202  \n",
       "2   -1.187439  1.675886  1.565287  0.784476  0.220617 -1.308500  \n",
       "3    1.107180 -0.511142 -1.094663  0.784476  0.448077 -0.652926  \n",
       "4   -0.578572  1.675886  1.565287  0.784476  0.389882  0.263497  \n",
       "..        ...       ...       ...       ...       ...       ...  \n",
       "399  1.157680 -0.741356 -1.040501 -0.262093  0.448077  0.477421  \n",
       "400  0.339660 -0.741356 -1.100681  0.056428  0.448077 -0.848908  \n",
       "401  1.430403 -0.971569 -0.613224 -0.717123  0.079439 -0.677769  \n",
       "402 -1.044075 -0.511142 -0.017443 -1.718189 -0.987644  0.420835  \n",
       "403  1.222729 -0.971569 -0.847926 -1.308662  0.233171 -1.153923  \n",
       "\n",
       "[404 rows x 13 columns]"
      ]
     },
     "execution_count": 5,
     "metadata": {},
     "output_type": "execute_result"
    }
   ],
   "source": [
    "df2 = pd.DataFrame(train_data)\n",
    "df2"
   ]
  },
  {
   "cell_type": "markdown",
   "metadata": {
    "id": "pNfBCw0nFuOq"
   },
   "source": [
    "Observe que os valores que usamos para normalizar os dados de teste foram calculadas usando os dados de treinamento. \n",
    "\n",
    "Nunca devemos usar em nosso fluxo de trabalho qualquer quantidade calculada nos dados de teste, mesmo para algo tão simples como a normalização de dados.\n",
    "\n",
    "---\n",
    "\n",
    "## Construindo nossa rede\n",
    "\n",
    "Como há poucas amostras disponíveis, usaremos uma rede muito pequena com duas camadas ocultas, cada uma com 64 unidades. \n",
    "\n",
    "Em geral, quanto menos dados de treinamento você tiver, pior será o overfitting, e usar uma rede pequena é uma forma de mitigar o overfitting."
   ]
  },
  {
   "cell_type": "code",
   "execution_count": 6,
   "metadata": {
    "id": "ynkAI6nJPPje"
   },
   "outputs": [],
   "source": [
    "from keras import models\n",
    "from keras import layers\n",
    "\n",
    "def build_model():\n",
    "    \"\"\"\n",
    "        Como precisaremos instanciar o mesmo modelo várias vezes, \n",
    "        usamos uma função para construí-lo.\n",
    "    \"\"\"\n",
    "\n",
    "    model = models.Sequential()\n",
    "    model.add(layers.Dense(64, activation='relu', \n",
    "                           input_shape=(train_data.shape[1],)))\n",
    "    model.add(layers.Dense(64, activation='relu'))\n",
    "    model.add(layers.Dense(1))\n",
    "\n",
    "    model.compile(optimizer='rmsprop', loss='mse', metrics=['mae'])\n",
    "\n",
    "    return model\n",
    "\n",
    "# https://keras.io/api/metrics/regression_metrics/"
   ]
  },
  {
   "cell_type": "markdown",
   "metadata": {
    "id": "eX-HuYlZHMH-"
   },
   "source": [
    "Nossa rede termina com uma único neurónio, e nenhuma ativação (ou seja, será uma camada linear). Esta é uma configuração típica para regressão escalar (ou seja, regressão em que tentamos prever um único valor contínuo). \n",
    "\n",
    "A aplicação de uma função de ativação restringiria o intervalo que a saída pode assumir; por exemplo, se aplicássemos uma função de ativação sigmóide à nossa última camada, a rede só poderia aprender a prever valores entre 0 e 1. Aqui, como a última camada é puramente linear, a rede é livre para aprender a prever valores em qualquer faixa.\n",
    "\n",
    "\n",
    "---\n",
    "\n",
    "\n",
    "Observe que estamos compilando a rede com a função de perda mse - Erro Quadrático Médio, o quadrado da diferença entre as previsões e os alvos, uma função de perda amplamente usada para problemas de regressão.\n",
    "\n",
    "$\\mathrm{MSE} = \\frac{1}{n} \\sum_{i=1}^{n}(y_{i}-\\hat{y}_i)^{2}.$\n",
    "\n",
    "Também estamos monitorando uma nova métrica durante o treinamento: mae. Isso significa erro médio absoluto. É simplesmente o valor absoluto da diferença entre as previsões e os alvos.\n",
    "\n",
    "$\\mathrm{MAE} = \\frac{1}{n} \\sum_{i=1}^{n}\\left|y_{i}-\\hat{y}_{i}\\right| = \\frac{1}{n} \\sum_{i=1}^{n}\\left|e_{i}\\right|$\n",
    "\n",
    "---\n"
   ]
  },
  {
   "cell_type": "markdown",
   "metadata": {
    "id": "9UszckXKctjT"
   },
   "source": [
    "## Validando usando validação K-fold\n",
    "\n",
    "Para avaliar nossa rede poderíamos simplesmente dividir os dados em \"treino\" e \"validação\", como estávamos fazendo em nossos exemplos anteriores. \n",
    "\n",
    "![image.png](data:image/png;base64,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)\n",
    "\n",
    "No entanto, como temos tão poucos dados, o conjunto de validação acabaria sendo muito pequeno (por exemplo, 20\\% seria somente 80 amostras). \n",
    "\n",
    "Uma consequência é que nossas métricas de validação podem mudar muito dependendo de quais amostras escolhemos usar para validação e quais escolhemos para treinamento, ou seja, a mpetrica de validação podem ter uma alta variação em relação à divisão de validação. Isso nos impediria de avaliar de forma confiável nosso modelo."
   ]
  },
  {
   "cell_type": "markdown",
   "metadata": {
    "id": "6CArCZC8Zg0C"
   },
   "source": [
    "A melhor prática em tais situações é usar a validação cruzada K-fold. Consiste em dividir os dados disponíveis em K partições, instanciar K modelos idênticos e treinar cada um nas partições K-1 enquanto avalia a partição restante. A métrica de validação para o modelo usado seria então a média nas K iterações.\n",
    "\n",
    "![image.png](data:image/png;base64,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)"
   ]
  },
  {
   "cell_type": "markdown",
   "metadata": {
    "id": "0wYZXd1MH-Lv"
   },
   "source": [
    "## Validando usando validação K-fold\n",
    "\n",
    "Para avaliar nossa rede poderíamos simplesmente dividir os dados em \"treino\" e \"validação\", como estávamos fazendo em nossos exemplos anteriores. \n",
    "\n",
    "No entanto, como temos tão poucos dados, o conjunto de validação acabaria sendo muito pequeno (por exemplo, 20\\% seria somente 80 amostras). \n",
    "\n",
    "Uma consequência é que nossas métricas de validação podem mudar muito dependendo de quais amostras escolhemos usar para validação e quais escolhemos para treinamento, ou seja, a mpetrica de validação podem ter uma alta variação em relação à divisão de validação. Isso nos impediria de avaliar de forma confiável nosso modelo.\n",
    "\n",
    "A melhor prática em tais situações é usar a validação cruzada K-fold. Consiste em dividir os dados disponíveis em K partições, instanciar K modelos idênticos e treinar cada um nas partições K-1 enquanto avalia a partição restante. A métrica de validação para o modelo usado seria então a média nas K iterações."
   ]
  },
  {
   "cell_type": "code",
   "execution_count": 7,
   "metadata": {
    "colab": {
     "base_uri": "https://localhost:8080/",
     "height": 153
    },
    "id": "MRZ7wpakPTYG",
    "outputId": "ee389175-09a3-4088-c514-b121605c8e42"
   },
   "outputs": [
    {
     "name": "stdout",
     "output_type": "stream",
     "text": [
      "processing fold # 0\n",
      "4/4 [==============================] - 0s 4ms/step - loss: 7.9202 - mae: 2.0834\n",
      "processing fold # 1\n",
      "4/4 [==============================] - 0s 4ms/step - loss: 10.2907 - mae: 2.4233\n",
      "processing fold # 2\n",
      "4/4 [==============================] - 0s 4ms/step - loss: 19.3797 - mae: 3.1254\n",
      "processing fold # 3\n",
      "4/4 [==============================] - 0s 6ms/step - loss: 12.5562 - mae: 2.5378\n"
     ]
    }
   ],
   "source": [
    "k = 4\n",
    "num_val_samples = len(train_data) // k\n",
    "num_epochs = 100\n",
    "all_scores = []\n",
    "\n",
    "for i in range(k):\n",
    "    print('processing fold #', i)\n",
    "\n",
    "    val_data = train_data[i * num_val_samples: (i + 1) * num_val_samples]\n",
    "    val_targets = train_targets[i * num_val_samples: (i + 1) * num_val_samples]\n",
    "\n",
    "    partial_train_data = np.concatenate(\n",
    "        [train_data[:i * num_val_samples],\n",
    "         train_data[(i + 1) * num_val_samples:]],\n",
    "        axis=0)\n",
    "    partial_train_targets = np.concatenate(\n",
    "        [train_targets[:i * num_val_samples],\n",
    "         train_targets[(i + 1) * num_val_samples:]],\n",
    "        axis=0)\n",
    "\n",
    "    model = build_model()\n",
    "\n",
    "    model.fit(partial_train_data, partial_train_targets,\n",
    "              epochs=num_epochs, batch_size=1, verbose=0)\n",
    "    \n",
    "    val_mse, val_mae = model.evaluate(val_data, val_targets)\n",
    "\n",
    "    all_scores.append(val_mae)"
   ]
  },
  {
   "cell_type": "code",
   "execution_count": 8,
   "metadata": {
    "colab": {
     "base_uri": "https://localhost:8080/",
     "height": 51
    },
    "id": "Up6rscf9PUIj",
    "outputId": "6d70a625-fdf0-48ae-8546-03bd07c7b3c4"
   },
   "outputs": [
    {
     "name": "stdout",
     "output_type": "stream",
     "text": [
      "[2.0834033489227295, 2.423313617706299, 3.125363826751709, 2.537774085998535]\n",
      "2.542463719844818\n"
     ]
    }
   ],
   "source": [
    "print(all_scores)\n",
    "print(np.mean(all_scores))"
   ]
  },
  {
   "cell_type": "markdown",
   "metadata": {
    "id": "nHEyi1wEI_Vq"
   },
   "source": [
    "Percebemos que as diferentes execuções realmente mostram pontuações de validação bastante diferentes, de 2.1 a 2.9.\n",
    "\n",
    "A média (2,4) é uma métrica muito mais confiável do que qualquer uma dessas pontuações - esse é o ponto principal da validação cruzada K-fold. \n",
    "\n",
    "Neste caso, perdemos em média \\$ 2.400, o que ainda é significativo considerando que os preços variam de \\$ 10.000 a \\$ 50.000.\n",
    "\n",
    "Vamos tentar treinar a rede um pouco mais: 300 épocas. Para manter um registro do desempenho do modelo em cada época, modificaremos nosso loop de treinamento para salvar o histórico de cada fold:"
   ]
  },
  {
   "cell_type": "code",
   "execution_count": 9,
   "metadata": {
    "id": "qlSp9fQ5PWMf"
   },
   "outputs": [],
   "source": [
    "from keras import backend as K\n",
    "\n",
    "# Some memory clean-up\n",
    "# https://keras.io/api/utils/backend_utils/\n",
    "K.clear_session()"
   ]
  },
  {
   "cell_type": "code",
   "execution_count": 10,
   "metadata": {
    "colab": {
     "base_uri": "https://localhost:8080/",
     "height": 85
    },
    "id": "Aq_jSqVaPf71",
    "outputId": "0b2fdeae-3afe-47a5-e1cb-5f4be2d56d5e"
   },
   "outputs": [
    {
     "name": "stdout",
     "output_type": "stream",
     "text": [
      "processing fold # 0\n",
      "processing fold # 1\n",
      "processing fold # 2\n",
      "processing fold # 3\n"
     ]
    }
   ],
   "source": [
    "num_epochs = 300\n",
    "all_mae_histories = []\n",
    "\n",
    "for i in range(k):\n",
    "    print('processing fold #', i)\n",
    "\n",
    "    val_data = train_data[i * num_val_samples: (i + 1) * num_val_samples]\n",
    "    val_targets = train_targets[i * num_val_samples: (i + 1) * num_val_samples]\n",
    "\n",
    "    partial_train_data = np.concatenate(\n",
    "        [train_data[:i * num_val_samples],\n",
    "         train_data[(i + 1) * num_val_samples:]],\n",
    "        axis=0)\n",
    "    partial_train_targets = np.concatenate(\n",
    "        [train_targets[:i * num_val_samples],\n",
    "         train_targets[(i + 1) * num_val_samples:]],\n",
    "        axis=0)\n",
    "\n",
    "    model = build_model()\n",
    "\n",
    "    history = model.fit(partial_train_data, partial_train_targets,\n",
    "                        epochs=num_epochs, batch_size=16, verbose=0,\n",
    "                        validation_data=(val_data, val_targets))\n",
    "    \n",
    "    mae_history = history.history['val_mae']\n",
    "    \n",
    "    all_mae_histories.append(mae_history)"
   ]
  },
  {
   "cell_type": "code",
   "execution_count": 11,
   "metadata": {
    "colab": {
     "base_uri": "https://localhost:8080/",
     "height": 334
    },
    "id": "a9A4cc4GVj3l",
    "outputId": "cb7d6e45-14a1-49d7-fd4b-cb419d8add30"
   },
   "outputs": [
    {
     "data": {
      "image/png": "[encoded data removed]",
      "text/plain": [
       "<Figure size 1296x360 with 1 Axes>"
      ]
     },
     "metadata": {
      "needs_background": "light"
     },
     "output_type": "display_data"
    }
   ],
   "source": [
    "import matplotlib.pyplot as plt\n",
    "%matplotlib inline\n",
    "\n",
    "plt.figure(figsize=(18,5))\n",
    "for i in range(k):\n",
    "    plt.plot(range(1,num_epochs+1), all_mae_histories[i])\n",
    "\n",
    "plt.xlabel('Epochs')\n",
    "plt.ylabel('Validation MAE')\n",
    "plt.show()"
   ]
  },
  {
   "cell_type": "markdown",
   "metadata": {
    "id": "TVIOVz4xKILb"
   },
   "source": [
    "Pode ser um pouco difícil ver o gráfico devido à escala e à variação relativamente alta. "
   ]
  },
  {
   "cell_type": "code",
   "execution_count": 12,
   "metadata": {
    "id": "Gt7eBrDmT-Co"
   },
   "outputs": [],
   "source": [
    "# average_mae_history = [\n",
    "    # np.mean([x[i] for x in all_mae_histories]) for i in range(num_epochs)]\n",
    "\n",
    "average_mae_history = []\n",
    "\n",
    "for i in range(num_epochs):\n",
    "    media = np.mean([all_mae_histories[0][i], all_mae_histories[1][i], \n",
    "                     all_mae_histories[2][i], all_mae_histories[3][i]])\n",
    "    average_mae_history.append(media)"
   ]
  },
  {
   "cell_type": "code",
   "execution_count": 13,
   "metadata": {
    "colab": {
     "base_uri": "https://localhost:8080/",
     "height": 385
    },
    "id": "hehWfY0JPnGY",
    "outputId": "0254d5d9-a7b5-4a8c-b6e0-08df93e8b2ac"
   },
   "outputs": [
    {
     "data": {
      "image/png": "[encoded data removed]",
      "text/plain": [
       "<Figure size 1296x360 with 2 Axes>"
      ]
     },
     "metadata": {
      "needs_background": "light"
     },
     "output_type": "display_data"
    },
    {
     "name": "stdout",
     "output_type": "stream",
     "text": [
      "96\n",
      "291\n",
      "116\n"
     ]
    }
   ],
   "source": [
    "def smooth(curve, N=10):\n",
    "    return np.convolve(curve, np.ones((N,))/N, mode='valid')\n",
    "\n",
    "plt.figure(figsize=(18,5))\n",
    "plt.subplot(1,2,1)\n",
    "plt.plot(range(1, num_epochs + 1), average_mae_history)\n",
    "plt.xlabel('Epochs')\n",
    "plt.ylabel('Validation MAE')\n",
    "\n",
    "plt.subplot(1,2,2)\n",
    "plt.plot(range(1, len(smooth(average_mae_history)) + 1), smooth(average_mae_history))\n",
    "plt.xlim([6, 160])\n",
    "plt.xlabel('Epochs')\n",
    "plt.ylabel('Smooth Validation MAE')\n",
    "\n",
    "plt.show()\n",
    "\n",
    "print(np.argmin(average_mae_history))\n",
    "print(len(smooth(average_mae_history)))\n",
    "print(np.argmin(smooth(average_mae_history)))"
   ]
  },
  {
   "cell_type": "markdown",
   "metadata": {
    "id": "LhNwcquWMaP9"
   },
   "source": [
    "## Modelo final\n",
    "\n",
    "Assim que terminarmos de ajustar os parâmetros do nosso modelo (além do número de épocas, também podemos ajustar o tamanho das camadas ocultas), podemos treinar um modelo de \"produção\" final em todos os dados de treinamento, com os melhores parâmetros:"
   ]
  },
  {
   "cell_type": "code",
   "execution_count": 14,
   "metadata": {
    "colab": {
     "base_uri": "https://localhost:8080/",
     "height": 34
    },
    "id": "Z73pM1o8Y7bF",
    "outputId": "7d8ca471-530f-49ac-a4f6-cbb9975ea0b5"
   },
   "outputs": [
    {
     "name": "stdout",
     "output_type": "stream",
     "text": [
      "4/4 [==============================] - 0s 2ms/step - loss: 18.9351 - mae: 2.8433\n"
     ]
    }
   ],
   "source": [
    "model2 = build_model()\n",
    "\n",
    "model2.fit(train_data, train_targets, epochs=65, batch_size = 1, verbose =0)\n",
    "\n",
    "test_mse_score, test_mae_score = model.evaluate(test_data, test_targets)"
   ]
  },
  {
   "cell_type": "code",
   "execution_count": 15,
   "metadata": {
    "colab": {
     "base_uri": "https://localhost:8080/",
     "height": 34
    },
    "id": "bT7qLu18cAQk",
    "outputId": "c6838bf9-258d-4c0f-ca96-14d07b5406df"
   },
   "outputs": [
    {
     "data": {
      "text/plain": [
       "2.8432722091674805"
      ]
     },
     "execution_count": 15,
     "metadata": {},
     "output_type": "execute_result"
    }
   ],
   "source": [
    "test_mae_score"
   ]
  },
  {
   "cell_type": "markdown",
   "metadata": {
    "id": "4LYnE47yMqcm"
   },
   "source": [
    "## Resumindo\n",
    "\n",
    "* A regressão é feita usando diferentes funções de perda\n",
    "\n",
    "* O erro quadrático médio (MSE) é uma função de perda comumente usada para regressão.\n",
    "\n",
    "* As métricas de avaliação a serem usadas para regressão diferem daquelas usadas para classificação; naturalmente, o conceito de \"precisão\" não se aplica à regressão. \n",
    "\n",
    "* Quando as features têm valores em intervalos diferentes devem ser escaladas de forma independente como uma etapa de pré-processamento.\n",
    "\n",
    "* Quando há poucos dados disponíveis, usar a validação K-Fold é uma ótima maneira de avaliar um modelo de forma confiável.\n",
    "\n",
    "* Quando há poucos dados de treinamento disponíveis, é preferível usar uma pequena rede com muito poucas camadas ocultas (normalmente apenas uma ou duas), a fim de evitar overfitting severo."
   ]
  },
  {
   "cell_type": "code",
   "execution_count": null,
   "metadata": {
    "id": "MpNKbfI29SXz"
   },
   "outputs": [],
   "source": []
  }
 ],
 "metadata": {
  "colab": {
   "collapsed_sections": [],
   "name": "Exemplo de regressão (para completar).ipynb",
   "provenance": []
  },
  "kernelspec": {
   "display_name": "Python 3",
   "language": "python",
   "name": "python3"
  },
  "language_info": {
   "codemirror_mode": {
    "name": "ipython",
    "version": 3
   },
   "file_extension": ".py",
   "mimetype": "text/x-python",
   "name": "python",
   "nbconvert_exporter": "python",
   "pygments_lexer": "ipython3",
   "version": "3.7.7"
  }
 },
 "nbformat": 4,
 "nbformat_minor": 1
}
