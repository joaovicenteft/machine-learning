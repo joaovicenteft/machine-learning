{
 "cells": [
  {
   "cell_type": "code",
   "execution_count": 92,
   "metadata": {},
   "outputs": [],
   "source": [
    "import pandas as pd\n",
    "import numpy as np\n",
    "import matplotlib.pyplot as plt\n",
    "from sklearn.linear_model import LogisticRegression\n",
    "from sklearn.model_selection import train_test_split\n",
    "from sklearn.preprocessing import StandardScaler"
   ]
  },
  {
   "cell_type": "code",
   "execution_count": 93,
   "metadata": {},
   "outputs": [],
   "source": [
    "df = pd.read_csv('train.csv')"
   ]
  },
  {
   "cell_type": "code",
   "execution_count": 94,
   "metadata": {},
   "outputs": [],
   "source": [
    "#convertendo dados categóricos em numéricos\n",
    "df['Sex'] = df['Sex'].map({'male':'0', 'female':'1'})\n"
   ]
  },
  {
   "cell_type": "code",
   "execution_count": 95,
   "metadata": {},
   "outputs": [],
   "source": [
    "#retirada dos NaN (Not a number)\n",
    "df['Age'] = df['Age'].fillna(value=round(df['Age'].mean()))\n"
   ]
  },
  {
   "cell_type": "code",
   "execution_count": 96,
   "metadata": {},
   "outputs": [],
   "source": [
    "# criação das colunas de primeira, segunda e terceira classe, baseadas na coluna PClass\n",
    "\n",
    "df['FirstClass'] = df['Pclass'].apply(lambda x: 1 if x == 1 else 0)\n",
    "df['SecondClass'] = df['Pclass'].apply(lambda x: 1 if x == 2 else 0)\n",
    "df['ThirdClass'] = df['Pclass'].apply(lambda x: 1 if x == 3 else 0)\n"
   ]
  },
  {
   "cell_type": "code",
   "execution_count": 97,
   "metadata": {},
   "outputs": [
    {
     "name": "stdout",
     "output_type": "stream",
     "text": [
      "     PassengerId  Survived  Pclass  \\\n",
      "0              1         0       3   \n",
      "1              2         1       1   \n",
      "2              3         1       3   \n",
      "3              4         1       1   \n",
      "4              5         0       3   \n",
      "..           ...       ...     ...   \n",
      "886          887         0       2   \n",
      "887          888         1       1   \n",
      "888          889         0       3   \n",
      "889          890         1       1   \n",
      "890          891         0       3   \n",
      "\n",
      "                                                  Name Sex   Age  SibSp  \\\n",
      "0                              Braund, Mr. Owen Harris   0  22.0      1   \n",
      "1    Cumings, Mrs. John Bradley (Florence Briggs Th...   1  38.0      1   \n",
      "2                               Heikkinen, Miss. Laina   1  26.0      0   \n",
      "3         Futrelle, Mrs. Jacques Heath (Lily May Peel)   1  35.0      1   \n",
      "4                             Allen, Mr. William Henry   0  35.0      0   \n",
      "..                                                 ...  ..   ...    ...   \n",
      "886                              Montvila, Rev. Juozas   0  27.0      0   \n",
      "887                       Graham, Miss. Margaret Edith   1  19.0      0   \n",
      "888           Johnston, Miss. Catherine Helen \"Carrie\"   1  30.0      1   \n",
      "889                              Behr, Mr. Karl Howell   0  26.0      0   \n",
      "890                                Dooley, Mr. Patrick   0  32.0      0   \n",
      "\n",
      "     Parch            Ticket     Fare Cabin Embarked  FirstClass  SecondClass  \\\n",
      "0        0         A/5 21171   7.2500   NaN        S           0            0   \n",
      "1        0          PC 17599  71.2833   C85        C           1            0   \n",
      "2        0  STON/O2. 3101282   7.9250   NaN        S           0            0   \n",
      "3        0            113803  53.1000  C123        S           1            0   \n",
      "4        0            373450   8.0500   NaN        S           0            0   \n",
      "..     ...               ...      ...   ...      ...         ...          ...   \n",
      "886      0            211536  13.0000   NaN        S           0            1   \n",
      "887      0            112053  30.0000   B42        S           1            0   \n",
      "888      2        W./C. 6607  23.4500   NaN        S           0            0   \n",
      "889      0            111369  30.0000  C148        C           1            0   \n",
      "890      0            370376   7.7500   NaN        Q           0            0   \n",
      "\n",
      "     ThirdClass  \n",
      "0             1  \n",
      "1             0  \n",
      "2             1  \n",
      "3             0  \n",
      "4             1  \n",
      "..          ...  \n",
      "886           0  \n",
      "887           0  \n",
      "888           1  \n",
      "889           0  \n",
      "890           1  \n",
      "\n",
      "[891 rows x 15 columns]\n"
     ]
    }
   ],
   "source": [
    "#separação das colunas relevantes para utilização no Logistic Regression\n",
    "print(df)\n",
    "\n",
    "features = df[['Sex', 'Age', 'FirstClass', 'SecondClass', 'ThirdClass']]\n",
    "\n",
    "#classe a ser utilizada na predição\n",
    "survival = df[['Survived']]\n",
    "\n",
    "#separação em conjunto de treino e teste pela técnica de hold-out\n",
    "x_train, x_test, y_train, y_test = train_test_split(features, survival, test_size=0.3)\n"
   ]
  },
  {
   "cell_type": "code",
   "execution_count": 98,
   "metadata": {},
   "outputs": [],
   "source": [
    "#scale the features to mean=0 and standard deviation=1\n",
    "\n",
    "scaler = StandardScaler()\n",
    "x_train = scaler.fit_transform(x_train)\n",
    "x_test = scaler.transform(x_test)\n"
   ]
  },
  {
   "cell_type": "code",
   "execution_count": 99,
   "metadata": {},
   "outputs": [
    {
     "name": "stdout",
     "output_type": "stream",
     "text": [
      "score of the model 0.8186195826645265\n"
     ]
    }
   ],
   "source": [
    "#criação do modelo\n",
    "\n",
    "model = LogisticRegression()\n",
    "model.fit(x_train, y_train.values.ravel())\n",
    "\n",
    "print(\"score of the model\", model.score(x_train,y_train))"
   ]
  },
  {
   "cell_type": "code",
   "execution_count": 100,
   "metadata": {},
   "outputs": [
    {
     "name": "stdout",
     "output_type": "stream",
     "text": [
      "[0 1 0]\n"
     ]
    }
   ],
   "source": [
    "\n",
    "Jack = np.array([0, 20, 0, 0, 1]) #Características de Jack\n",
    "Rose = np.array([1, 17, 1, 0, 0]) #Características de Rose\n",
    "You = np.array([0, 21, 0, 1, 0]) #Minhas características\n",
    "\n",
    "sample_passengers = np.array([Jack, Rose, You])\n",
    "\n",
    "sample_passengers = scaler.transform(sample_passengers)\n",
    "\n",
    "#predição obtida pelo modelo. (0 não sobrevive, 1 sobrevive)\n",
    "print(model.predict(sample_passengers))"
   ]
  }
 ],
 "metadata": {
  "kernelspec": {
   "display_name": "Python 3",
   "language": "python",
   "name": "python3"
  },
  "language_info": {
   "codemirror_mode": {
    "name": "ipython",
    "version": 3
   },
   "file_extension": ".py",
   "mimetype": "text/x-python",
   "name": "python",
   "nbconvert_exporter": "python",
   "pygments_lexer": "ipython3",
   "version": "3.7.7"
  }
 },
 "nbformat": 4,
 "nbformat_minor": 2
}
