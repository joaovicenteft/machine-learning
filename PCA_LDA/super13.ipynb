{
 "cells": [
  {
   "cell_type": "code",
   "execution_count": 1,
   "metadata": {},
   "outputs": [],
   "source": [
    "import pickle\n",
    "import numpy as np\n",
    "from sklearn.decomposition import PCA\n",
    "import matplotlib.pyplot as plt\n",
    "%matplotlib inline"
   ]
  },
  {
   "cell_type": "code",
   "execution_count": 2,
   "metadata": {},
   "outputs": [],
   "source": [
    "def unpickle(file):\n",
    "    with open(file, 'rb') as fo:\n",
    "        dict = pickle.load(fo, encoding='bytes')\n",
    "    return dict"
   ]
  },
  {
   "cell_type": "code",
   "execution_count": 3,
   "metadata": {},
   "outputs": [],
   "source": [
    "dictBatch1 = unpickle('cifar-10-batches-py/data_batch_1')"
   ]
  },
  {
   "cell_type": "code",
   "execution_count": 155,
   "metadata": {
    "scrolled": false
   },
   "outputs": [
    {
     "name": "stdout",
     "output_type": "stream",
     "text": [
      "[[ 59  43  50 ... 140  84  72]\n",
      " [154 126 105 ... 139 142 144]\n",
      " [255 253 253 ...  83  83  84]\n",
      " ...\n",
      " [ 71  60  74 ...  68  69  68]\n",
      " [250 254 211 ... 215 255 254]\n",
      " [ 62  61  60 ... 130 130 131]]\n"
     ]
    }
   ],
   "source": [
    "#tipos de dados que vem do data_batch_1\n",
    "dataBatch1 = []\n",
    "dataBatch1 = dictBatch1[b'data']\n",
    "print(dataBatch1)\n",
    "#print(dictBatch1)\n",
    "#print(dictBatch1[b'batch_label'])\n",
    "#print(dictBatch1[b'labels'])\n",
    "#print(dictBatch1[b'data'])\n",
    "#print(dictBatch1[b'filenames'])"
   ]
  },
  {
   "cell_type": "code",
   "execution_count": 256,
   "metadata": {},
   "outputs": [],
   "source": [
    "def RGBchannels(ar, out):\n",
    "    \n",
    "    \n",
    "    lines = 2\n",
    "    \n",
    "    Rchannel = list(range(0,1024))\n",
    "    Gchannel = list(range(0,1024))\n",
    "    Bchannel = list(range(0,1024))\n",
    "    \n",
    "    outTest = []\n",
    "    \n",
    "    begin = 0\n",
    "    end = 3072\n",
    "    i = 0\n",
    "    \n",
    "    while (i < lines):\n",
    "        while (begin < end):\n",
    "\n",
    "            if (begin < 1024):\n",
    "                #print(begin)\n",
    "                Rchannel[begin] = (ar[i][begin])\n",
    "            elif (begin < 2048):\n",
    "                Gchannel[begin - 1024] = (ar[i][begin])\n",
    "            elif (begin < 3072):\n",
    "                Bchannel[begin - 2048] = (ar[i][begin])\n",
    "              \n",
    "            if (begin == 1023):\n",
    "                out[i] = Rchannel\n",
    "                #print(Rchannel)\n",
    "                \n",
    "            begin += 1\n",
    "            \n",
    "        print(Rchannel[2])\n",
    "\n",
    "        begin = 0\n",
    "        i += 1\n",
    "        \n",
    "    return out"
   ]
  },
  {
   "cell_type": "code",
   "execution_count": 257,
   "metadata": {
    "scrolled": true
   },
   "outputs": [
    {
     "name": "stdout",
     "output_type": "stream",
     "text": [
      "50\n",
      "105\n"
     ]
    }
   ],
   "source": [
    "\n",
    "out = list(range(0,2))\n",
    "out = RGBchannels(dataBatch1, out)\n",
    "\n",
    "#print(out[0])\n",
    "#print(Rarray[0][0])"
   ]
  },
  {
   "cell_type": "code",
   "execution_count": 323,
   "metadata": {},
   "outputs": [],
   "source": [
    "def RGB(ar):\n",
    "    \n",
    "    Rlist = []\n",
    "    Glist = []\n",
    "    Blist = []\n",
    "    lines = 2\n",
    "    \n",
    "    arList = ar.tolist()\n",
    "    \n",
    "    #R\n",
    "    for i in range(0, lines):\n",
    "        Rlist.append(arList[i][0:1024])\n",
    "    #G\n",
    "    for i in range(0, lines):\n",
    "        Glist.append(arList[i][1024:2048])\n",
    "    #B\n",
    "    for i in range(0, lines):\n",
    "        Blist.append(arList[i][2048:3072])\n",
    "        \n",
    "    return Rlist, Glist, Blist"
   ]
  },
  {
   "cell_type": "code",
   "execution_count": 338,
   "metadata": {
    "scrolled": true
   },
   "outputs": [
    {
     "name": "stdout",
     "output_type": "stream",
     "text": [
      "63\n",
      "63\n"
     ]
    }
   ],
   "source": [
    "Rlist, Glist, Blist = RGB(dataBatch1)\n",
    "\n",
    "print(dataBatch1[0][2048])\n",
    "\n",
    "print(Blist[0][0])"
   ]
  },
  {
   "cell_type": "code",
   "execution_count": null,
   "metadata": {},
   "outputs": [],
   "source": []
  }
 ],
 "metadata": {
  "kernelspec": {
   "display_name": "Python 3",
   "language": "python",
   "name": "python3"
  },
  "language_info": {
   "codemirror_mode": {
    "name": "ipython",
    "version": 3
   },
   "file_extension": ".py",
   "mimetype": "text/x-python",
   "name": "python",
   "nbconvert_exporter": "python",
   "pygments_lexer": "ipython3",
   "version": "3.7.7"
  }
 },
 "nbformat": 4,
 "nbformat_minor": 2
}
