{
 "cells": [
  {
   "cell_type": "code",
   "execution_count": 7,
   "metadata": {},
   "outputs": [],
   "source": [
    "import pickle\n",
    "import numpy as np\n",
    "from sklearn.decomposition import PCA\n",
    "import matplotlib.pyplot as plt\n",
    "%matplotlib inline"
   ]
  },
  {
   "cell_type": "code",
   "execution_count": 8,
   "metadata": {},
   "outputs": [],
   "source": [
    "def unpickle(file):\n",
    "    with open(file, 'rb') as fo:\n",
    "        dict = pickle.load(fo, encoding='bytes')\n",
    "    return dict"
   ]
  },
  {
   "cell_type": "code",
   "execution_count": 9,
   "metadata": {},
   "outputs": [],
   "source": [
    "dictBatch1 = unpickle('cifar-10-batches-py/data_batch_1')"
   ]
  },
  {
   "cell_type": "code",
   "execution_count": 15,
   "metadata": {
    "scrolled": false
   },
   "outputs": [
    {
     "name": "stdout",
     "output_type": "stream",
     "text": [
      "[[ 59  43  50 ... 140  84  72]\n",
      " [154 126 105 ... 139 142 144]\n",
      " [255 253 253 ...  83  83  84]\n",
      " ...\n",
      " [ 71  60  74 ...  68  69  68]\n",
      " [250 254 211 ... 215 255 254]\n",
      " [ 62  61  60 ... 130 130 131]]\n"
     ]
    }
   ],
   "source": [
    "#tipos de dados que vem do data_batch_1\n",
    "dataBatch1 = dictBatch1[b'data']\n",
    "print(dataBatch1)\n",
    "#print(dictBatch1)\n",
    "#print(dictBatch1[b'batch_label'])\n",
    "#print(dictBatch1[b'labels'])\n",
    "#print(dictBatch1[b'data'])\n",
    "#print(dictBatch1[b'filenames'])"
   ]
  },
  {
   "cell_type": "code",
   "execution_count": 11,
   "metadata": {},
   "outputs": [],
   "source": [
    "def arrayToThree(ar):\n",
    "        \n",
    "    arrayThree = []\n",
    "    arrayInter = []\n",
    "    \n",
    "    begin = 0\n",
    "    var = 1024\n",
    "    \n",
    "    while(begin < var):\n",
    "        \n",
    "        if (begin != 3072):\n",
    "\n",
    "            arrayInter.append(ar[0][begin])\n",
    "\n",
    "            print(begin)\n",
    "\n",
    "            #if (begin==1028):\n",
    "\n",
    "             #   print(arrayInter)\n",
    "\n",
    "            begin = begin + 1\n",
    "\n",
    "            if (begin==var-1):\n",
    "                arrayThree.append(arrayInter)\n",
    "                arrayInter = [] \n",
    "                begin = var\n",
    "                var = var + var\n",
    "\n",
    "    return arrayThree"
   ]
  },
  {
   "cell_type": "code",
   "execution_count": null,
   "metadata": {
    "scrolled": true
   },
   "outputs": [],
   "source": []
  },
  {
   "cell_type": "code",
   "execution_count": null,
   "metadata": {},
   "outputs": [],
   "source": []
  }
 ],
 "metadata": {
  "kernelspec": {
   "display_name": "Python 3",
   "language": "python",
   "name": "python3"
  },
  "language_info": {
   "codemirror_mode": {
    "name": "ipython",
    "version": 3
   },
   "file_extension": ".py",
   "mimetype": "text/x-python",
   "name": "python",
   "nbconvert_exporter": "python",
   "pygments_lexer": "ipython3",
   "version": "3.7.7"
  }
 },
 "nbformat": 4,
 "nbformat_minor": 2
}
